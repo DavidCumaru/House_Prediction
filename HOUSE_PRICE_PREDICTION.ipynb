{
 "cells": [
  {
   "cell_type": "code",
   "execution_count": null,
   "id": "d90b90c4",
   "metadata": {},
   "outputs": [],
   "source": [
    "#!pip install pycaret"
   ]
  },
  {
   "cell_type": "markdown",
   "id": "39b539f3",
   "metadata": {},
   "source": [
    "# This is a real dataset of house prices sold in Seattle, Washing, USA between August and December 2022. The task is to predict the house price in this area based on several features, which are described below."
   ]
  },
  {
   "cell_type": "markdown",
   "id": "502a386c",
   "metadata": {},
   "source": [
    "## Imports"
   ]
  },
  {
   "cell_type": "code",
   "execution_count": 1,
   "id": "9871f490",
   "metadata": {},
   "outputs": [],
   "source": [
    "# importing the libraries\n",
    "import pandas as pd\n",
    "import numpy as np\n",
    "import matplotlib.pyplot as plt\n",
    "%matplotlib inline\n",
    "import seaborn as sns\n",
    "\n",
    "import pycaret   \n",
    "from pycaret.regression import *"
   ]
  },
  {
   "cell_type": "code",
   "execution_count": 2,
   "id": "687de175",
   "metadata": {},
   "outputs": [],
   "source": [
    "train = pd.read_csv('train.csv')\n",
    "test = pd.read_csv('test.csv')"
   ]
  },
  {
   "cell_type": "markdown",
   "id": "10f13a3d",
   "metadata": {},
   "source": [
    "# Data Analysis"
   ]
  },
  {
   "cell_type": "code",
   "execution_count": 3,
   "id": "a07fd91f",
   "metadata": {},
   "outputs": [
    {
     "data": {
      "text/html": [
       "<div>\n",
       "<style scoped>\n",
       "    .dataframe tbody tr th:only-of-type {\n",
       "        vertical-align: middle;\n",
       "    }\n",
       "\n",
       "    .dataframe tbody tr th {\n",
       "        vertical-align: top;\n",
       "    }\n",
       "\n",
       "    .dataframe thead th {\n",
       "        text-align: right;\n",
       "    }\n",
       "</style>\n",
       "<table border=\"1\" class=\"dataframe\">\n",
       "  <thead>\n",
       "    <tr style=\"text-align: right;\">\n",
       "      <th></th>\n",
       "      <th>beds</th>\n",
       "      <th>baths</th>\n",
       "      <th>size</th>\n",
       "      <th>size_units</th>\n",
       "      <th>lot_size</th>\n",
       "      <th>lot_size_units</th>\n",
       "      <th>zip_code</th>\n",
       "      <th>price</th>\n",
       "    </tr>\n",
       "  </thead>\n",
       "  <tbody>\n",
       "    <tr>\n",
       "      <th>0</th>\n",
       "      <td>3</td>\n",
       "      <td>2.5</td>\n",
       "      <td>2590.0</td>\n",
       "      <td>sqft</td>\n",
       "      <td>6000.00</td>\n",
       "      <td>sqft</td>\n",
       "      <td>98144</td>\n",
       "      <td>795000.0</td>\n",
       "    </tr>\n",
       "    <tr>\n",
       "      <th>1</th>\n",
       "      <td>4</td>\n",
       "      <td>2.0</td>\n",
       "      <td>2240.0</td>\n",
       "      <td>sqft</td>\n",
       "      <td>0.31</td>\n",
       "      <td>acre</td>\n",
       "      <td>98106</td>\n",
       "      <td>915000.0</td>\n",
       "    </tr>\n",
       "    <tr>\n",
       "      <th>2</th>\n",
       "      <td>4</td>\n",
       "      <td>3.0</td>\n",
       "      <td>2040.0</td>\n",
       "      <td>sqft</td>\n",
       "      <td>3783.00</td>\n",
       "      <td>sqft</td>\n",
       "      <td>98107</td>\n",
       "      <td>950000.0</td>\n",
       "    </tr>\n",
       "    <tr>\n",
       "      <th>3</th>\n",
       "      <td>4</td>\n",
       "      <td>3.0</td>\n",
       "      <td>3800.0</td>\n",
       "      <td>sqft</td>\n",
       "      <td>5175.00</td>\n",
       "      <td>sqft</td>\n",
       "      <td>98199</td>\n",
       "      <td>1950000.0</td>\n",
       "    </tr>\n",
       "    <tr>\n",
       "      <th>4</th>\n",
       "      <td>2</td>\n",
       "      <td>2.0</td>\n",
       "      <td>1042.0</td>\n",
       "      <td>sqft</td>\n",
       "      <td>NaN</td>\n",
       "      <td>NaN</td>\n",
       "      <td>98102</td>\n",
       "      <td>950000.0</td>\n",
       "    </tr>\n",
       "  </tbody>\n",
       "</table>\n",
       "</div>"
      ],
      "text/plain": [
       "   beds  baths    size size_units  lot_size lot_size_units  zip_code  \\\n",
       "0     3    2.5  2590.0       sqft   6000.00           sqft     98144   \n",
       "1     4    2.0  2240.0       sqft      0.31           acre     98106   \n",
       "2     4    3.0  2040.0       sqft   3783.00           sqft     98107   \n",
       "3     4    3.0  3800.0       sqft   5175.00           sqft     98199   \n",
       "4     2    2.0  1042.0       sqft       NaN            NaN     98102   \n",
       "\n",
       "       price  \n",
       "0   795000.0  \n",
       "1   915000.0  \n",
       "2   950000.0  \n",
       "3  1950000.0  \n",
       "4   950000.0  "
      ]
     },
     "execution_count": 3,
     "metadata": {},
     "output_type": "execute_result"
    }
   ],
   "source": [
    "train.head()"
   ]
  },
  {
   "cell_type": "code",
   "execution_count": 4,
   "id": "6a168054",
   "metadata": {},
   "outputs": [
    {
     "data": {
      "text/html": [
       "<div>\n",
       "<style scoped>\n",
       "    .dataframe tbody tr th:only-of-type {\n",
       "        vertical-align: middle;\n",
       "    }\n",
       "\n",
       "    .dataframe tbody tr th {\n",
       "        vertical-align: top;\n",
       "    }\n",
       "\n",
       "    .dataframe thead th {\n",
       "        text-align: right;\n",
       "    }\n",
       "</style>\n",
       "<table border=\"1\" class=\"dataframe\">\n",
       "  <thead>\n",
       "    <tr style=\"text-align: right;\">\n",
       "      <th></th>\n",
       "      <th>beds</th>\n",
       "      <th>baths</th>\n",
       "      <th>size</th>\n",
       "      <th>size_units</th>\n",
       "      <th>lot_size</th>\n",
       "      <th>lot_size_units</th>\n",
       "      <th>zip_code</th>\n",
       "      <th>price</th>\n",
       "    </tr>\n",
       "  </thead>\n",
       "  <tbody>\n",
       "    <tr>\n",
       "      <th>0</th>\n",
       "      <td>3</td>\n",
       "      <td>3.0</td>\n",
       "      <td>2850.0</td>\n",
       "      <td>sqft</td>\n",
       "      <td>4200.00</td>\n",
       "      <td>sqft</td>\n",
       "      <td>98119</td>\n",
       "      <td>1175000.0</td>\n",
       "    </tr>\n",
       "    <tr>\n",
       "      <th>1</th>\n",
       "      <td>4</td>\n",
       "      <td>5.0</td>\n",
       "      <td>3040.0</td>\n",
       "      <td>sqft</td>\n",
       "      <td>5002.00</td>\n",
       "      <td>sqft</td>\n",
       "      <td>98106</td>\n",
       "      <td>1057500.0</td>\n",
       "    </tr>\n",
       "    <tr>\n",
       "      <th>2</th>\n",
       "      <td>3</td>\n",
       "      <td>1.0</td>\n",
       "      <td>1290.0</td>\n",
       "      <td>sqft</td>\n",
       "      <td>6048.00</td>\n",
       "      <td>sqft</td>\n",
       "      <td>98125</td>\n",
       "      <td>799000.0</td>\n",
       "    </tr>\n",
       "    <tr>\n",
       "      <th>3</th>\n",
       "      <td>3</td>\n",
       "      <td>2.0</td>\n",
       "      <td>2360.0</td>\n",
       "      <td>sqft</td>\n",
       "      <td>0.28</td>\n",
       "      <td>acre</td>\n",
       "      <td>98188</td>\n",
       "      <td>565000.0</td>\n",
       "    </tr>\n",
       "    <tr>\n",
       "      <th>4</th>\n",
       "      <td>3</td>\n",
       "      <td>3.5</td>\n",
       "      <td>1942.0</td>\n",
       "      <td>sqft</td>\n",
       "      <td>1603.00</td>\n",
       "      <td>sqft</td>\n",
       "      <td>98107</td>\n",
       "      <td>1187000.0</td>\n",
       "    </tr>\n",
       "  </tbody>\n",
       "</table>\n",
       "</div>"
      ],
      "text/plain": [
       "   beds  baths    size size_units  lot_size lot_size_units  zip_code  \\\n",
       "0     3    3.0  2850.0       sqft   4200.00           sqft     98119   \n",
       "1     4    5.0  3040.0       sqft   5002.00           sqft     98106   \n",
       "2     3    1.0  1290.0       sqft   6048.00           sqft     98125   \n",
       "3     3    2.0  2360.0       sqft      0.28           acre     98188   \n",
       "4     3    3.5  1942.0       sqft   1603.00           sqft     98107   \n",
       "\n",
       "       price  \n",
       "0  1175000.0  \n",
       "1  1057500.0  \n",
       "2   799000.0  \n",
       "3   565000.0  \n",
       "4  1187000.0  "
      ]
     },
     "execution_count": 4,
     "metadata": {},
     "output_type": "execute_result"
    }
   ],
   "source": [
    "test.head()"
   ]
  },
  {
   "cell_type": "code",
   "execution_count": 5,
   "id": "959e9823",
   "metadata": {},
   "outputs": [
    {
     "name": "stdout",
     "output_type": "stream",
     "text": [
      "<class 'pandas.core.frame.DataFrame'>\n",
      "RangeIndex: 2016 entries, 0 to 2015\n",
      "Data columns (total 8 columns):\n",
      " #   Column          Non-Null Count  Dtype  \n",
      "---  ------          --------------  -----  \n",
      " 0   beds            2016 non-null   int64  \n",
      " 1   baths           2016 non-null   float64\n",
      " 2   size            2016 non-null   float64\n",
      " 3   size_units      2016 non-null   object \n",
      " 4   lot_size        1669 non-null   float64\n",
      " 5   lot_size_units  1669 non-null   object \n",
      " 6   zip_code        2016 non-null   int64  \n",
      " 7   price           2016 non-null   float64\n",
      "dtypes: float64(4), int64(2), object(2)\n",
      "memory usage: 126.1+ KB\n"
     ]
    }
   ],
   "source": [
    "train.info()"
   ]
  },
  {
   "cell_type": "code",
   "execution_count": 6,
   "id": "56031b49",
   "metadata": {},
   "outputs": [
    {
     "data": {
      "text/html": [
       "<div>\n",
       "<style scoped>\n",
       "    .dataframe tbody tr th:only-of-type {\n",
       "        vertical-align: middle;\n",
       "    }\n",
       "\n",
       "    .dataframe tbody tr th {\n",
       "        vertical-align: top;\n",
       "    }\n",
       "\n",
       "    .dataframe thead th {\n",
       "        text-align: right;\n",
       "    }\n",
       "</style>\n",
       "<table border=\"1\" class=\"dataframe\">\n",
       "  <thead>\n",
       "    <tr style=\"text-align: right;\">\n",
       "      <th></th>\n",
       "      <th>beds</th>\n",
       "      <th>baths</th>\n",
       "      <th>size</th>\n",
       "      <th>lot_size</th>\n",
       "      <th>zip_code</th>\n",
       "      <th>price</th>\n",
       "    </tr>\n",
       "  </thead>\n",
       "  <tbody>\n",
       "    <tr>\n",
       "      <th>count</th>\n",
       "      <td>2016.000000</td>\n",
       "      <td>2016.000000</td>\n",
       "      <td>2016.000000</td>\n",
       "      <td>1669.000000</td>\n",
       "      <td>2016.000000</td>\n",
       "      <td>2.016000e+03</td>\n",
       "    </tr>\n",
       "    <tr>\n",
       "      <th>mean</th>\n",
       "      <td>2.857639</td>\n",
       "      <td>2.159970</td>\n",
       "      <td>1735.740575</td>\n",
       "      <td>3871.059694</td>\n",
       "      <td>98123.638889</td>\n",
       "      <td>9.636252e+05</td>\n",
       "    </tr>\n",
       "    <tr>\n",
       "      <th>std</th>\n",
       "      <td>1.255092</td>\n",
       "      <td>1.002023</td>\n",
       "      <td>920.132591</td>\n",
       "      <td>2719.402066</td>\n",
       "      <td>22.650819</td>\n",
       "      <td>9.440954e+05</td>\n",
       "    </tr>\n",
       "    <tr>\n",
       "      <th>min</th>\n",
       "      <td>1.000000</td>\n",
       "      <td>0.500000</td>\n",
       "      <td>250.000000</td>\n",
       "      <td>0.230000</td>\n",
       "      <td>98101.000000</td>\n",
       "      <td>1.590000e+05</td>\n",
       "    </tr>\n",
       "    <tr>\n",
       "      <th>25%</th>\n",
       "      <td>2.000000</td>\n",
       "      <td>1.500000</td>\n",
       "      <td>1068.750000</td>\n",
       "      <td>1252.000000</td>\n",
       "      <td>98108.000000</td>\n",
       "      <td>6.017500e+05</td>\n",
       "    </tr>\n",
       "    <tr>\n",
       "      <th>50%</th>\n",
       "      <td>3.000000</td>\n",
       "      <td>2.000000</td>\n",
       "      <td>1560.000000</td>\n",
       "      <td>4000.000000</td>\n",
       "      <td>98117.000000</td>\n",
       "      <td>8.000000e+05</td>\n",
       "    </tr>\n",
       "    <tr>\n",
       "      <th>75%</th>\n",
       "      <td>4.000000</td>\n",
       "      <td>2.500000</td>\n",
       "      <td>2222.500000</td>\n",
       "      <td>6000.000000</td>\n",
       "      <td>98126.000000</td>\n",
       "      <td>1.105250e+06</td>\n",
       "    </tr>\n",
       "    <tr>\n",
       "      <th>max</th>\n",
       "      <td>15.000000</td>\n",
       "      <td>9.000000</td>\n",
       "      <td>11010.000000</td>\n",
       "      <td>9998.000000</td>\n",
       "      <td>98199.000000</td>\n",
       "      <td>2.500000e+07</td>\n",
       "    </tr>\n",
       "  </tbody>\n",
       "</table>\n",
       "</div>"
      ],
      "text/plain": [
       "              beds        baths          size     lot_size      zip_code  \\\n",
       "count  2016.000000  2016.000000   2016.000000  1669.000000   2016.000000   \n",
       "mean      2.857639     2.159970   1735.740575  3871.059694  98123.638889   \n",
       "std       1.255092     1.002023    920.132591  2719.402066     22.650819   \n",
       "min       1.000000     0.500000    250.000000     0.230000  98101.000000   \n",
       "25%       2.000000     1.500000   1068.750000  1252.000000  98108.000000   \n",
       "50%       3.000000     2.000000   1560.000000  4000.000000  98117.000000   \n",
       "75%       4.000000     2.500000   2222.500000  6000.000000  98126.000000   \n",
       "max      15.000000     9.000000  11010.000000  9998.000000  98199.000000   \n",
       "\n",
       "              price  \n",
       "count  2.016000e+03  \n",
       "mean   9.636252e+05  \n",
       "std    9.440954e+05  \n",
       "min    1.590000e+05  \n",
       "25%    6.017500e+05  \n",
       "50%    8.000000e+05  \n",
       "75%    1.105250e+06  \n",
       "max    2.500000e+07  "
      ]
     },
     "execution_count": 6,
     "metadata": {},
     "output_type": "execute_result"
    }
   ],
   "source": [
    "train.describe()"
   ]
  },
  {
   "cell_type": "code",
   "execution_count": 7,
   "id": "a73a8834",
   "metadata": {},
   "outputs": [
    {
     "data": {
      "text/html": [
       "<div>\n",
       "<style scoped>\n",
       "    .dataframe tbody tr th:only-of-type {\n",
       "        vertical-align: middle;\n",
       "    }\n",
       "\n",
       "    .dataframe tbody tr th {\n",
       "        vertical-align: top;\n",
       "    }\n",
       "\n",
       "    .dataframe thead th {\n",
       "        text-align: right;\n",
       "    }\n",
       "</style>\n",
       "<table border=\"1\" class=\"dataframe\">\n",
       "  <thead>\n",
       "    <tr style=\"text-align: right;\">\n",
       "      <th></th>\n",
       "      <th>size_units</th>\n",
       "      <th>lot_size_units</th>\n",
       "    </tr>\n",
       "  </thead>\n",
       "  <tbody>\n",
       "    <tr>\n",
       "      <th>count</th>\n",
       "      <td>2016</td>\n",
       "      <td>1669</td>\n",
       "    </tr>\n",
       "    <tr>\n",
       "      <th>unique</th>\n",
       "      <td>1</td>\n",
       "      <td>2</td>\n",
       "    </tr>\n",
       "    <tr>\n",
       "      <th>top</th>\n",
       "      <td>sqft</td>\n",
       "      <td>sqft</td>\n",
       "    </tr>\n",
       "    <tr>\n",
       "      <th>freq</th>\n",
       "      <td>2016</td>\n",
       "      <td>1449</td>\n",
       "    </tr>\n",
       "  </tbody>\n",
       "</table>\n",
       "</div>"
      ],
      "text/plain": [
       "       size_units lot_size_units\n",
       "count        2016           1669\n",
       "unique          1              2\n",
       "top          sqft           sqft\n",
       "freq         2016           1449"
      ]
     },
     "execution_count": 7,
     "metadata": {},
     "output_type": "execute_result"
    }
   ],
   "source": [
    "train.describe(include=['O'])"
   ]
  },
  {
   "cell_type": "markdown",
   "id": "370ad008",
   "metadata": {},
   "source": [
    "## Converting acre to sqft"
   ]
  },
  {
   "cell_type": "code",
   "execution_count": 8,
   "id": "571f4b41",
   "metadata": {},
   "outputs": [],
   "source": [
    "def sqft(row):\n",
    "    if row['lot_size_units'] == 'acre':\n",
    "        return row['lot_size'] * 43560\n",
    "    else:\n",
    "        return row['lot_size']"
   ]
  },
  {
   "cell_type": "code",
   "execution_count": 9,
   "id": "19101eca",
   "metadata": {},
   "outputs": [],
   "source": [
    "train['lot_size'] = train.apply(sqft, axis=1)\n",
    "test['lot_size'] = test.apply(sqft, axis=1)"
   ]
  },
  {
   "cell_type": "code",
   "execution_count": 10,
   "id": "3245607f",
   "metadata": {
    "scrolled": true
   },
   "outputs": [
    {
     "data": {
      "text/html": [
       "<div>\n",
       "<style scoped>\n",
       "    .dataframe tbody tr th:only-of-type {\n",
       "        vertical-align: middle;\n",
       "    }\n",
       "\n",
       "    .dataframe tbody tr th {\n",
       "        vertical-align: top;\n",
       "    }\n",
       "\n",
       "    .dataframe thead th {\n",
       "        text-align: right;\n",
       "    }\n",
       "</style>\n",
       "<table border=\"1\" class=\"dataframe\">\n",
       "  <thead>\n",
       "    <tr style=\"text-align: right;\">\n",
       "      <th></th>\n",
       "      <th>beds</th>\n",
       "      <th>baths</th>\n",
       "      <th>size</th>\n",
       "      <th>size_units</th>\n",
       "      <th>lot_size</th>\n",
       "      <th>lot_size_units</th>\n",
       "      <th>zip_code</th>\n",
       "      <th>price</th>\n",
       "    </tr>\n",
       "  </thead>\n",
       "  <tbody>\n",
       "    <tr>\n",
       "      <th>0</th>\n",
       "      <td>3</td>\n",
       "      <td>2.5</td>\n",
       "      <td>2590.0</td>\n",
       "      <td>sqft</td>\n",
       "      <td>6000.0</td>\n",
       "      <td>sqft</td>\n",
       "      <td>98144</td>\n",
       "      <td>795000.0</td>\n",
       "    </tr>\n",
       "    <tr>\n",
       "      <th>1</th>\n",
       "      <td>4</td>\n",
       "      <td>2.0</td>\n",
       "      <td>2240.0</td>\n",
       "      <td>sqft</td>\n",
       "      <td>13503.6</td>\n",
       "      <td>acre</td>\n",
       "      <td>98106</td>\n",
       "      <td>915000.0</td>\n",
       "    </tr>\n",
       "    <tr>\n",
       "      <th>2</th>\n",
       "      <td>4</td>\n",
       "      <td>3.0</td>\n",
       "      <td>2040.0</td>\n",
       "      <td>sqft</td>\n",
       "      <td>3783.0</td>\n",
       "      <td>sqft</td>\n",
       "      <td>98107</td>\n",
       "      <td>950000.0</td>\n",
       "    </tr>\n",
       "    <tr>\n",
       "      <th>3</th>\n",
       "      <td>4</td>\n",
       "      <td>3.0</td>\n",
       "      <td>3800.0</td>\n",
       "      <td>sqft</td>\n",
       "      <td>5175.0</td>\n",
       "      <td>sqft</td>\n",
       "      <td>98199</td>\n",
       "      <td>1950000.0</td>\n",
       "    </tr>\n",
       "    <tr>\n",
       "      <th>4</th>\n",
       "      <td>2</td>\n",
       "      <td>2.0</td>\n",
       "      <td>1042.0</td>\n",
       "      <td>sqft</td>\n",
       "      <td>NaN</td>\n",
       "      <td>NaN</td>\n",
       "      <td>98102</td>\n",
       "      <td>950000.0</td>\n",
       "    </tr>\n",
       "  </tbody>\n",
       "</table>\n",
       "</div>"
      ],
      "text/plain": [
       "   beds  baths    size size_units  lot_size lot_size_units  zip_code  \\\n",
       "0     3    2.5  2590.0       sqft    6000.0           sqft     98144   \n",
       "1     4    2.0  2240.0       sqft   13503.6           acre     98106   \n",
       "2     4    3.0  2040.0       sqft    3783.0           sqft     98107   \n",
       "3     4    3.0  3800.0       sqft    5175.0           sqft     98199   \n",
       "4     2    2.0  1042.0       sqft       NaN            NaN     98102   \n",
       "\n",
       "       price  \n",
       "0   795000.0  \n",
       "1   915000.0  \n",
       "2   950000.0  \n",
       "3  1950000.0  \n",
       "4   950000.0  "
      ]
     },
     "execution_count": 10,
     "metadata": {},
     "output_type": "execute_result"
    }
   ],
   "source": [
    "train.head()"
   ]
  },
  {
   "cell_type": "markdown",
   "id": "e78ac71d",
   "metadata": {},
   "source": [
    "## Beds"
   ]
  },
  {
   "cell_type": "code",
   "execution_count": 11,
   "id": "f0c77bdc",
   "metadata": {},
   "outputs": [
    {
     "data": {
      "text/plain": [
       "<AxesSubplot:>"
      ]
     },
     "execution_count": 11,
     "metadata": {},
     "output_type": "execute_result"
    },
    {
     "data": {
      "image/png": "[encoded data removed]",
      "text/plain": [
       "<Figure size 1200x500 with 1 Axes>"
      ]
     },
     "metadata": {},
     "output_type": "display_data"
    }
   ],
   "source": [
    "bedsx = train['beds'].value_counts().sort_index(ascending = True)\n",
    "plt.figure(figsize=(12,5))\n",
    "bedsx.plot.bar()"
   ]
  },
  {
   "cell_type": "code",
   "execution_count": 12,
   "id": "1412b55b",
   "metadata": {
    "scrolled": false
   },
   "outputs": [
    {
     "data": {
      "image/png": "[encoded data removed]",
      "text/plain": [
       "<Figure size 800x550 with 1 Axes>"
      ]
     },
     "metadata": {},
     "output_type": "display_data"
    }
   ],
   "source": [
    "sns.boxplot(x=\"beds\", data=train)\n",
    "plt.show()"
   ]
  },
  {
   "cell_type": "markdown",
   "id": "f997d7db",
   "metadata": {},
   "source": [
    "## Beds x Price"
   ]
  },
  {
   "cell_type": "code",
   "execution_count": 13,
   "id": "f0154cf4",
   "metadata": {},
   "outputs": [
    {
     "data": {
      "image/png": "[encoded data removed]",
      "text/plain": [
       "<Figure size 800x550 with 1 Axes>"
      ]
     },
     "metadata": {},
     "output_type": "display_data"
    }
   ],
   "source": [
    "sns.regplot(data=train, x='beds',y='price')\n",
    "plt.title('Beds vs Price')\n",
    "plt.show()"
   ]
  },
  {
   "cell_type": "markdown",
   "id": "5b50256c",
   "metadata": {},
   "source": [
    "## Baths"
   ]
  },
  {
   "cell_type": "code",
   "execution_count": 14,
   "id": "6e19096f",
   "metadata": {
    "scrolled": false
   },
   "outputs": [
    {
     "data": {
      "text/plain": [
       "<AxesSubplot:>"
      ]
     },
     "execution_count": 14,
     "metadata": {},
     "output_type": "execute_result"
    },
    {
     "data": {
      "image/png": "[encoded data removed]",
      "text/plain": [
       "<Figure size 1200x500 with 1 Axes>"
      ]
     },
     "metadata": {},
     "output_type": "display_data"
    }
   ],
   "source": [
    "bathsx = train['baths'].value_counts().sort_index(ascending = True)\n",
    "plt.figure(figsize=(12,5))\n",
    "bathsx.plot.bar()"
   ]
  },
  {
   "cell_type": "code",
   "execution_count": 15,
   "id": "83df7bdc",
   "metadata": {
    "scrolled": false
   },
   "outputs": [
    {
     "data": {
      "image/png": "[encoded data removed]",
      "text/plain": [
       "<Figure size 800x550 with 1 Axes>"
      ]
     },
     "metadata": {},
     "output_type": "display_data"
    }
   ],
   "source": [
    "sns.boxplot(x=\"baths\", data=train)\n",
    "plt.show()"
   ]
  },
  {
   "cell_type": "markdown",
   "id": "996a95bf",
   "metadata": {},
   "source": [
    "## Baths x Pruce"
   ]
  },
  {
   "cell_type": "code",
   "execution_count": 16,
   "id": "d36e83e5",
   "metadata": {},
   "outputs": [
    {
     "data": {
      "image/png": "[encoded data removed]",
      "text/plain": [
       "<Figure size 800x550 with 1 Axes>"
      ]
     },
     "metadata": {},
     "output_type": "display_data"
    }
   ],
   "source": [
    "sns.regplot(data=train, x='baths',y='price')\n",
    "plt.title('Baths vs Price')\n",
    "plt.show()"
   ]
  },
  {
   "cell_type": "markdown",
   "id": "884c44a1",
   "metadata": {},
   "source": [
    "## Relationship between Columns"
   ]
  },
  {
   "cell_type": "code",
   "execution_count": 17,
   "id": "1e804459",
   "metadata": {
    "scrolled": false
   },
   "outputs": [
    {
     "data": {
      "image/png": "[encoded data removed]",
      "text/plain": [
       "<Figure size 1000x1000 with 20 Axes>"
      ]
     },
     "metadata": {},
     "output_type": "display_data"
    }
   ],
   "source": [
    "sns.pairplot(train[['beds','baths','size', 'price']])\n",
    "plt.show()"
   ]
  },
  {
   "cell_type": "markdown",
   "id": "760f02f0",
   "metadata": {},
   "source": [
    "## Start autoML"
   ]
  },
  {
   "cell_type": "code",
   "execution_count": 18,
   "id": "2bb61196",
   "metadata": {},
   "outputs": [],
   "source": [
    "train = train.drop(['size_units','lot_size', 'lot_size_units', 'zip_code'],axis = 1)\n",
    "test = test.drop(['size_units', 'lot_size', 'lot_size_units', 'zip_code'],axis = 1)"
   ]
  },
  {
   "cell_type": "markdown",
   "id": "d653f64c",
   "metadata": {},
   "source": [
    "## Set up our dataset (preprocessing)"
   ]
  },
  {
   "cell_type": "code",
   "execution_count": 19,
   "id": "f4c5e4bf",
   "metadata": {},
   "outputs": [
    {
     "data": {
      "text/html": [
       "<style type=\"text/css\">\n",
       "#T_e128b_row7_col1, #T_e128b_row11_col1 {\n",
       "  background-color: lightgreen;\n",
       "}\n",
       "</style>\n",
       "<table id=\"T_e128b\">\n",
       "  <thead>\n",
       "    <tr>\n",
       "      <th class=\"blank level0\" >&nbsp;</th>\n",
       "      <th id=\"T_e128b_level0_col0\" class=\"col_heading level0 col0\" >Description</th>\n",
       "      <th id=\"T_e128b_level0_col1\" class=\"col_heading level0 col1\" >Value</th>\n",
       "    </tr>\n",
       "  </thead>\n",
       "  <tbody>\n",
       "    <tr>\n",
       "      <th id=\"T_e128b_level0_row0\" class=\"row_heading level0 row0\" >0</th>\n",
       "      <td id=\"T_e128b_row0_col0\" class=\"data row0 col0\" >Session id</td>\n",
       "      <td id=\"T_e128b_row0_col1\" class=\"data row0 col1\" >3985</td>\n",
       "    </tr>\n",
       "    <tr>\n",
       "      <th id=\"T_e128b_level0_row1\" class=\"row_heading level0 row1\" >1</th>\n",
       "      <td id=\"T_e128b_row1_col0\" class=\"data row1 col0\" >Target</td>\n",
       "      <td id=\"T_e128b_row1_col1\" class=\"data row1 col1\" >price</td>\n",
       "    </tr>\n",
       "    <tr>\n",
       "      <th id=\"T_e128b_level0_row2\" class=\"row_heading level0 row2\" >2</th>\n",
       "      <td id=\"T_e128b_row2_col0\" class=\"data row2 col0\" >Target type</td>\n",
       "      <td id=\"T_e128b_row2_col1\" class=\"data row2 col1\" >Regression</td>\n",
       "    </tr>\n",
       "    <tr>\n",
       "      <th id=\"T_e128b_level0_row3\" class=\"row_heading level0 row3\" >3</th>\n",
       "      <td id=\"T_e128b_row3_col0\" class=\"data row3 col0\" >Data shape</td>\n",
       "      <td id=\"T_e128b_row3_col1\" class=\"data row3 col1\" >(2016, 4)</td>\n",
       "    </tr>\n",
       "    <tr>\n",
       "      <th id=\"T_e128b_level0_row4\" class=\"row_heading level0 row4\" >4</th>\n",
       "      <td id=\"T_e128b_row4_col0\" class=\"data row4 col0\" >Train data shape</td>\n",
       "      <td id=\"T_e128b_row4_col1\" class=\"data row4 col1\" >(1411, 4)</td>\n",
       "    </tr>\n",
       "    <tr>\n",
       "      <th id=\"T_e128b_level0_row5\" class=\"row_heading level0 row5\" >5</th>\n",
       "      <td id=\"T_e128b_row5_col0\" class=\"data row5 col0\" >Test data shape</td>\n",
       "      <td id=\"T_e128b_row5_col1\" class=\"data row5 col1\" >(605, 4)</td>\n",
       "    </tr>\n",
       "    <tr>\n",
       "      <th id=\"T_e128b_level0_row6\" class=\"row_heading level0 row6\" >6</th>\n",
       "      <td id=\"T_e128b_row6_col0\" class=\"data row6 col0\" >Numeric features</td>\n",
       "      <td id=\"T_e128b_row6_col1\" class=\"data row6 col1\" >3</td>\n",
       "    </tr>\n",
       "    <tr>\n",
       "      <th id=\"T_e128b_level0_row7\" class=\"row_heading level0 row7\" >7</th>\n",
       "      <td id=\"T_e128b_row7_col0\" class=\"data row7 col0\" >Preprocess</td>\n",
       "      <td id=\"T_e128b_row7_col1\" class=\"data row7 col1\" >True</td>\n",
       "    </tr>\n",
       "    <tr>\n",
       "      <th id=\"T_e128b_level0_row8\" class=\"row_heading level0 row8\" >8</th>\n",
       "      <td id=\"T_e128b_row8_col0\" class=\"data row8 col0\" >Imputation type</td>\n",
       "      <td id=\"T_e128b_row8_col1\" class=\"data row8 col1\" >simple</td>\n",
       "    </tr>\n",
       "    <tr>\n",
       "      <th id=\"T_e128b_level0_row9\" class=\"row_heading level0 row9\" >9</th>\n",
       "      <td id=\"T_e128b_row9_col0\" class=\"data row9 col0\" >Numeric imputation</td>\n",
       "      <td id=\"T_e128b_row9_col1\" class=\"data row9 col1\" >mean</td>\n",
       "    </tr>\n",
       "    <tr>\n",
       "      <th id=\"T_e128b_level0_row10\" class=\"row_heading level0 row10\" >10</th>\n",
       "      <td id=\"T_e128b_row10_col0\" class=\"data row10 col0\" >Categorical imputation</td>\n",
       "      <td id=\"T_e128b_row10_col1\" class=\"data row10 col1\" >mode</td>\n",
       "    </tr>\n",
       "    <tr>\n",
       "      <th id=\"T_e128b_level0_row11\" class=\"row_heading level0 row11\" >11</th>\n",
       "      <td id=\"T_e128b_row11_col0\" class=\"data row11 col0\" >Normalize</td>\n",
       "      <td id=\"T_e128b_row11_col1\" class=\"data row11 col1\" >True</td>\n",
       "    </tr>\n",
       "    <tr>\n",
       "      <th id=\"T_e128b_level0_row12\" class=\"row_heading level0 row12\" >12</th>\n",
       "      <td id=\"T_e128b_row12_col0\" class=\"data row12 col0\" >Normalize method</td>\n",
       "      <td id=\"T_e128b_row12_col1\" class=\"data row12 col1\" >zscore</td>\n",
       "    </tr>\n",
       "    <tr>\n",
       "      <th id=\"T_e128b_level0_row13\" class=\"row_heading level0 row13\" >13</th>\n",
       "      <td id=\"T_e128b_row13_col0\" class=\"data row13 col0\" >Fold Generator</td>\n",
       "      <td id=\"T_e128b_row13_col1\" class=\"data row13 col1\" >KFold</td>\n",
       "    </tr>\n",
       "    <tr>\n",
       "      <th id=\"T_e128b_level0_row14\" class=\"row_heading level0 row14\" >14</th>\n",
       "      <td id=\"T_e128b_row14_col0\" class=\"data row14 col0\" >Fold Number</td>\n",
       "      <td id=\"T_e128b_row14_col1\" class=\"data row14 col1\" >10</td>\n",
       "    </tr>\n",
       "    <tr>\n",
       "      <th id=\"T_e128b_level0_row15\" class=\"row_heading level0 row15\" >15</th>\n",
       "      <td id=\"T_e128b_row15_col0\" class=\"data row15 col0\" >CPU Jobs</td>\n",
       "      <td id=\"T_e128b_row15_col1\" class=\"data row15 col1\" >-1</td>\n",
       "    </tr>\n",
       "    <tr>\n",
       "      <th id=\"T_e128b_level0_row16\" class=\"row_heading level0 row16\" >16</th>\n",
       "      <td id=\"T_e128b_row16_col0\" class=\"data row16 col0\" >Use GPU</td>\n",
       "      <td id=\"T_e128b_row16_col1\" class=\"data row16 col1\" >False</td>\n",
       "    </tr>\n",
       "    <tr>\n",
       "      <th id=\"T_e128b_level0_row17\" class=\"row_heading level0 row17\" >17</th>\n",
       "      <td id=\"T_e128b_row17_col0\" class=\"data row17 col0\" >Log Experiment</td>\n",
       "      <td id=\"T_e128b_row17_col1\" class=\"data row17 col1\" >False</td>\n",
       "    </tr>\n",
       "    <tr>\n",
       "      <th id=\"T_e128b_level0_row18\" class=\"row_heading level0 row18\" >18</th>\n",
       "      <td id=\"T_e128b_row18_col0\" class=\"data row18 col0\" >Experiment Name</td>\n",
       "      <td id=\"T_e128b_row18_col1\" class=\"data row18 col1\" >reg-default-name</td>\n",
       "    </tr>\n",
       "    <tr>\n",
       "      <th id=\"T_e128b_level0_row19\" class=\"row_heading level0 row19\" >19</th>\n",
       "      <td id=\"T_e128b_row19_col0\" class=\"data row19 col0\" >USI</td>\n",
       "      <td id=\"T_e128b_row19_col1\" class=\"data row19 col1\" >9f34</td>\n",
       "    </tr>\n",
       "  </tbody>\n",
       "</table>\n"
      ],
      "text/plain": [
       "<pandas.io.formats.style.Styler at 0x1dbdeadbaf0>"
      ]
     },
     "metadata": {},
     "output_type": "display_data"
    }
   ],
   "source": [
    "s = setup(data = train, target = 'price', numeric_imputation = 'mean', normalize = True)"
   ]
  },
  {
   "cell_type": "markdown",
   "id": "ff16d13c",
   "metadata": {},
   "source": [
    "## Compare the models"
   ]
  },
  {
   "cell_type": "code",
   "execution_count": 20,
   "id": "da9e8091",
   "metadata": {
    "scrolled": false
   },
   "outputs": [
    {
     "data": {
      "text/html": [],
      "text/plain": [
       "<IPython.core.display.HTML object>"
      ]
     },
     "metadata": {},
     "output_type": "display_data"
    },
    {
     "data": {
      "text/html": [
       "<style type=\"text/css\">\n",
       "#T_0a05f th {\n",
       "  text-align: left;\n",
       "}\n",
       "#T_0a05f_row0_col0, #T_0a05f_row0_col2, #T_0a05f_row0_col3, #T_0a05f_row0_col6, #T_0a05f_row1_col0, #T_0a05f_row1_col1, #T_0a05f_row1_col4, #T_0a05f_row1_col5, #T_0a05f_row1_col6, #T_0a05f_row2_col0, #T_0a05f_row2_col1, #T_0a05f_row2_col2, #T_0a05f_row2_col3, #T_0a05f_row2_col4, #T_0a05f_row2_col5, #T_0a05f_row2_col6, #T_0a05f_row3_col0, #T_0a05f_row3_col1, #T_0a05f_row3_col2, #T_0a05f_row3_col3, #T_0a05f_row3_col4, #T_0a05f_row3_col5, #T_0a05f_row3_col6, #T_0a05f_row4_col0, #T_0a05f_row4_col1, #T_0a05f_row4_col2, #T_0a05f_row4_col3, #T_0a05f_row4_col4, #T_0a05f_row4_col5, #T_0a05f_row4_col6, #T_0a05f_row5_col0, #T_0a05f_row5_col1, #T_0a05f_row5_col2, #T_0a05f_row5_col3, #T_0a05f_row5_col4, #T_0a05f_row5_col5, #T_0a05f_row5_col6, #T_0a05f_row6_col0, #T_0a05f_row6_col1, #T_0a05f_row6_col2, #T_0a05f_row6_col3, #T_0a05f_row6_col4, #T_0a05f_row6_col5, #T_0a05f_row6_col6, #T_0a05f_row7_col0, #T_0a05f_row7_col1, #T_0a05f_row7_col2, #T_0a05f_row7_col3, #T_0a05f_row7_col4, #T_0a05f_row7_col5, #T_0a05f_row7_col6, #T_0a05f_row8_col0, #T_0a05f_row8_col1, #T_0a05f_row8_col2, #T_0a05f_row8_col3, #T_0a05f_row8_col4, #T_0a05f_row8_col5, #T_0a05f_row8_col6, #T_0a05f_row9_col0, #T_0a05f_row9_col1, #T_0a05f_row9_col2, #T_0a05f_row9_col3, #T_0a05f_row9_col4, #T_0a05f_row9_col5, #T_0a05f_row9_col6, #T_0a05f_row10_col0, #T_0a05f_row10_col1, #T_0a05f_row10_col2, #T_0a05f_row10_col3, #T_0a05f_row10_col4, #T_0a05f_row10_col5, #T_0a05f_row11_col0, #T_0a05f_row11_col1, #T_0a05f_row11_col2, #T_0a05f_row11_col3, #T_0a05f_row11_col4, #T_0a05f_row11_col5, #T_0a05f_row11_col6, #T_0a05f_row12_col0, #T_0a05f_row12_col1, #T_0a05f_row12_col2, #T_0a05f_row12_col3, #T_0a05f_row12_col4, #T_0a05f_row12_col5, #T_0a05f_row12_col6, #T_0a05f_row13_col0, #T_0a05f_row13_col1, #T_0a05f_row13_col2, #T_0a05f_row13_col3, #T_0a05f_row13_col4, #T_0a05f_row13_col5, #T_0a05f_row13_col6, #T_0a05f_row14_col0, #T_0a05f_row14_col1, #T_0a05f_row14_col2, #T_0a05f_row14_col3, #T_0a05f_row14_col4, #T_0a05f_row14_col5, #T_0a05f_row14_col6, #T_0a05f_row15_col0, #T_0a05f_row15_col1, #T_0a05f_row15_col2, #T_0a05f_row15_col3, #T_0a05f_row15_col4, #T_0a05f_row15_col5, #T_0a05f_row15_col6, #T_0a05f_row16_col0, #T_0a05f_row16_col1, #T_0a05f_row16_col2, #T_0a05f_row16_col3, #T_0a05f_row16_col4, #T_0a05f_row16_col5, #T_0a05f_row16_col6, #T_0a05f_row17_col0, #T_0a05f_row17_col1, #T_0a05f_row17_col2, #T_0a05f_row17_col3, #T_0a05f_row17_col4, #T_0a05f_row17_col5, #T_0a05f_row17_col6 {\n",
       "  text-align: left;\n",
       "}\n",
       "#T_0a05f_row0_col1, #T_0a05f_row0_col4, #T_0a05f_row0_col5, #T_0a05f_row1_col2, #T_0a05f_row1_col3, #T_0a05f_row10_col6 {\n",
       "  text-align: left;\n",
       "  background-color: yellow;\n",
       "}\n",
       "#T_0a05f_row0_col7, #T_0a05f_row1_col7, #T_0a05f_row2_col7, #T_0a05f_row3_col7, #T_0a05f_row4_col7, #T_0a05f_row5_col7, #T_0a05f_row6_col7, #T_0a05f_row7_col7, #T_0a05f_row8_col7, #T_0a05f_row9_col7, #T_0a05f_row10_col7, #T_0a05f_row11_col7, #T_0a05f_row12_col7, #T_0a05f_row13_col7, #T_0a05f_row14_col7, #T_0a05f_row16_col7, #T_0a05f_row17_col7 {\n",
       "  text-align: left;\n",
       "  background-color: lightgrey;\n",
       "}\n",
       "#T_0a05f_row15_col7 {\n",
       "  text-align: left;\n",
       "  background-color: yellow;\n",
       "  background-color: lightgrey;\n",
       "}\n",
       "</style>\n",
       "<table id=\"T_0a05f\">\n",
       "  <thead>\n",
       "    <tr>\n",
       "      <th class=\"blank level0\" >&nbsp;</th>\n",
       "      <th id=\"T_0a05f_level0_col0\" class=\"col_heading level0 col0\" >Model</th>\n",
       "      <th id=\"T_0a05f_level0_col1\" class=\"col_heading level0 col1\" >MAE</th>\n",
       "      <th id=\"T_0a05f_level0_col2\" class=\"col_heading level0 col2\" >MSE</th>\n",
       "      <th id=\"T_0a05f_level0_col3\" class=\"col_heading level0 col3\" >RMSE</th>\n",
       "      <th id=\"T_0a05f_level0_col4\" class=\"col_heading level0 col4\" >R2</th>\n",
       "      <th id=\"T_0a05f_level0_col5\" class=\"col_heading level0 col5\" >RMSLE</th>\n",
       "      <th id=\"T_0a05f_level0_col6\" class=\"col_heading level0 col6\" >MAPE</th>\n",
       "      <th id=\"T_0a05f_level0_col7\" class=\"col_heading level0 col7\" >TT (Sec)</th>\n",
       "    </tr>\n",
       "  </thead>\n",
       "  <tbody>\n",
       "    <tr>\n",
       "      <th id=\"T_0a05f_level0_row0\" class=\"row_heading level0 row0\" >huber</th>\n",
       "      <td id=\"T_0a05f_row0_col0\" class=\"data row0 col0\" >Huber Regressor</td>\n",
       "      <td id=\"T_0a05f_row0_col1\" class=\"data row0 col1\" >240705.5735</td>\n",
       "      <td id=\"T_0a05f_row0_col2\" class=\"data row0 col2\" >548261635219.6681</td>\n",
       "      <td id=\"T_0a05f_row0_col3\" class=\"data row0 col3\" >537168.4107</td>\n",
       "      <td id=\"T_0a05f_row0_col4\" class=\"data row0 col4\" >0.5062</td>\n",
       "      <td id=\"T_0a05f_row0_col5\" class=\"data row0 col5\" >0.3204</td>\n",
       "      <td id=\"T_0a05f_row0_col6\" class=\"data row0 col6\" >0.2497</td>\n",
       "      <td id=\"T_0a05f_row0_col7\" class=\"data row0 col7\" >0.0800</td>\n",
       "    </tr>\n",
       "    <tr>\n",
       "      <th id=\"T_0a05f_level0_row1\" class=\"row_heading level0 row1\" >ridge</th>\n",
       "      <td id=\"T_0a05f_row1_col0\" class=\"data row1 col0\" >Ridge Regression</td>\n",
       "      <td id=\"T_0a05f_row1_col1\" class=\"data row1 col1\" >247341.4875</td>\n",
       "      <td id=\"T_0a05f_row1_col2\" class=\"data row1 col2\" >543915739545.6000</td>\n",
       "      <td id=\"T_0a05f_row1_col3\" class=\"data row1 col3\" >535023.8250</td>\n",
       "      <td id=\"T_0a05f_row1_col4\" class=\"data row1 col4\" >0.5017</td>\n",
       "      <td id=\"T_0a05f_row1_col5\" class=\"data row1 col5\" >0.3358</td>\n",
       "      <td id=\"T_0a05f_row1_col6\" class=\"data row1 col6\" >0.2772</td>\n",
       "      <td id=\"T_0a05f_row1_col7\" class=\"data row1 col7\" >0.0850</td>\n",
       "    </tr>\n",
       "    <tr>\n",
       "      <th id=\"T_0a05f_level0_row2\" class=\"row_heading level0 row2\" >llar</th>\n",
       "      <td id=\"T_0a05f_row2_col0\" class=\"data row2 col0\" >Lasso Least Angle Regression</td>\n",
       "      <td id=\"T_0a05f_row2_col1\" class=\"data row2 col1\" >247387.7109</td>\n",
       "      <td id=\"T_0a05f_row2_col2\" class=\"data row2 col2\" >543920581836.8000</td>\n",
       "      <td id=\"T_0a05f_row2_col3\" class=\"data row2 col3\" >535071.8094</td>\n",
       "      <td id=\"T_0a05f_row2_col4\" class=\"data row2 col4\" >0.5015</td>\n",
       "      <td id=\"T_0a05f_row2_col5\" class=\"data row2 col5\" >0.3359</td>\n",
       "      <td id=\"T_0a05f_row2_col6\" class=\"data row2 col6\" >0.2773</td>\n",
       "      <td id=\"T_0a05f_row2_col7\" class=\"data row2 col7\" >0.0460</td>\n",
       "    </tr>\n",
       "    <tr>\n",
       "      <th id=\"T_0a05f_level0_row3\" class=\"row_heading level0 row3\" >lr</th>\n",
       "      <td id=\"T_0a05f_row3_col0\" class=\"data row3 col0\" >Linear Regression</td>\n",
       "      <td id=\"T_0a05f_row3_col1\" class=\"data row3 col1\" >247398.0891</td>\n",
       "      <td id=\"T_0a05f_row3_col2\" class=\"data row3 col2\" >543919208038.4000</td>\n",
       "      <td id=\"T_0a05f_row3_col3\" class=\"data row3 col3\" >535075.4219</td>\n",
       "      <td id=\"T_0a05f_row3_col4\" class=\"data row3 col4\" >0.5014</td>\n",
       "      <td id=\"T_0a05f_row3_col5\" class=\"data row3 col5\" >0.3359</td>\n",
       "      <td id=\"T_0a05f_row3_col6\" class=\"data row3 col6\" >0.2773</td>\n",
       "      <td id=\"T_0a05f_row3_col7\" class=\"data row3 col7\" >2.8190</td>\n",
       "    </tr>\n",
       "    <tr>\n",
       "      <th id=\"T_0a05f_level0_row4\" class=\"row_heading level0 row4\" >lasso</th>\n",
       "      <td id=\"T_0a05f_row4_col0\" class=\"data row4 col0\" >Lasso Regression</td>\n",
       "      <td id=\"T_0a05f_row4_col1\" class=\"data row4 col1\" >247397.7953</td>\n",
       "      <td id=\"T_0a05f_row4_col2\" class=\"data row4 col2\" >543919300608.0000</td>\n",
       "      <td id=\"T_0a05f_row4_col3\" class=\"data row4 col3\" >535075.3406</td>\n",
       "      <td id=\"T_0a05f_row4_col4\" class=\"data row4 col4\" >0.5014</td>\n",
       "      <td id=\"T_0a05f_row4_col5\" class=\"data row4 col5\" >0.3359</td>\n",
       "      <td id=\"T_0a05f_row4_col6\" class=\"data row4 col6\" >0.2773</td>\n",
       "      <td id=\"T_0a05f_row4_col7\" class=\"data row4 col7\" >0.1000</td>\n",
       "    </tr>\n",
       "    <tr>\n",
       "      <th id=\"T_0a05f_level0_row5\" class=\"row_heading level0 row5\" >lar</th>\n",
       "      <td id=\"T_0a05f_row5_col0\" class=\"data row5 col0\" >Least Angle Regression</td>\n",
       "      <td id=\"T_0a05f_row5_col1\" class=\"data row5 col1\" >247398.1078</td>\n",
       "      <td id=\"T_0a05f_row5_col2\" class=\"data row5 col2\" >543919294054.4000</td>\n",
       "      <td id=\"T_0a05f_row5_col3\" class=\"data row5 col3\" >535075.4656</td>\n",
       "      <td id=\"T_0a05f_row5_col4\" class=\"data row5 col4\" >0.5014</td>\n",
       "      <td id=\"T_0a05f_row5_col5\" class=\"data row5 col5\" >0.3359</td>\n",
       "      <td id=\"T_0a05f_row5_col6\" class=\"data row5 col6\" >0.2773</td>\n",
       "      <td id=\"T_0a05f_row5_col7\" class=\"data row5 col7\" >0.0640</td>\n",
       "    </tr>\n",
       "    <tr>\n",
       "      <th id=\"T_0a05f_level0_row6\" class=\"row_heading level0 row6\" >omp</th>\n",
       "      <td id=\"T_0a05f_row6_col0\" class=\"data row6 col0\" >Orthogonal Matching Pursuit</td>\n",
       "      <td id=\"T_0a05f_row6_col1\" class=\"data row6 col1\" >246550.9719</td>\n",
       "      <td id=\"T_0a05f_row6_col2\" class=\"data row6 col2\" >548504784896.0000</td>\n",
       "      <td id=\"T_0a05f_row6_col3\" class=\"data row6 col3\" >540683.7438</td>\n",
       "      <td id=\"T_0a05f_row6_col4\" class=\"data row6 col4\" >0.4932</td>\n",
       "      <td id=\"T_0a05f_row6_col5\" class=\"data row6 col5\" >0.3287</td>\n",
       "      <td id=\"T_0a05f_row6_col6\" class=\"data row6 col6\" >0.2669</td>\n",
       "      <td id=\"T_0a05f_row6_col7\" class=\"data row6 col7\" >0.0470</td>\n",
       "    </tr>\n",
       "    <tr>\n",
       "      <th id=\"T_0a05f_level0_row7\" class=\"row_heading level0 row7\" >en</th>\n",
       "      <td id=\"T_0a05f_row7_col0\" class=\"data row7 col0\" >Elastic Net</td>\n",
       "      <td id=\"T_0a05f_row7_col1\" class=\"data row7 col1\" >264159.8391</td>\n",
       "      <td id=\"T_0a05f_row7_col2\" class=\"data row7 col2\" >568864433766.4000</td>\n",
       "      <td id=\"T_0a05f_row7_col3\" class=\"data row7 col3\" >556339.4562</td>\n",
       "      <td id=\"T_0a05f_row7_col4\" class=\"data row7 col4\" >0.4650</td>\n",
       "      <td id=\"T_0a05f_row7_col5\" class=\"data row7 col5\" >0.3464</td>\n",
       "      <td id=\"T_0a05f_row7_col6\" class=\"data row7 col6\" >0.2978</td>\n",
       "      <td id=\"T_0a05f_row7_col7\" class=\"data row7 col7\" >0.0990</td>\n",
       "    </tr>\n",
       "    <tr>\n",
       "      <th id=\"T_0a05f_level0_row8\" class=\"row_heading level0 row8\" >ada</th>\n",
       "      <td id=\"T_0a05f_row8_col0\" class=\"data row8 col0\" >AdaBoost Regressor</td>\n",
       "      <td id=\"T_0a05f_row8_col1\" class=\"data row8 col1\" >272804.2452</td>\n",
       "      <td id=\"T_0a05f_row8_col2\" class=\"data row8 col2\" >551579195564.9587</td>\n",
       "      <td id=\"T_0a05f_row8_col3\" class=\"data row8 col3\" >548202.1818</td>\n",
       "      <td id=\"T_0a05f_row8_col4\" class=\"data row8 col4\" >0.4616</td>\n",
       "      <td id=\"T_0a05f_row8_col5\" class=\"data row8 col5\" >0.3597</td>\n",
       "      <td id=\"T_0a05f_row8_col6\" class=\"data row8 col6\" >0.3285</td>\n",
       "      <td id=\"T_0a05f_row8_col7\" class=\"data row8 col7\" >0.1200</td>\n",
       "    </tr>\n",
       "    <tr>\n",
       "      <th id=\"T_0a05f_level0_row9\" class=\"row_heading level0 row9\" >lightgbm</th>\n",
       "      <td id=\"T_0a05f_row9_col0\" class=\"data row9 col0\" >Light Gradient Boosting Machine</td>\n",
       "      <td id=\"T_0a05f_row9_col1\" class=\"data row9 col1\" >253884.2116</td>\n",
       "      <td id=\"T_0a05f_row9_col2\" class=\"data row9 col2\" >555456707922.6012</td>\n",
       "      <td id=\"T_0a05f_row9_col3\" class=\"data row9 col3\" >549070.6616</td>\n",
       "      <td id=\"T_0a05f_row9_col4\" class=\"data row9 col4\" >0.4596</td>\n",
       "      <td id=\"T_0a05f_row9_col5\" class=\"data row9 col5\" >0.3384</td>\n",
       "      <td id=\"T_0a05f_row9_col6\" class=\"data row9 col6\" >0.2752</td>\n",
       "      <td id=\"T_0a05f_row9_col7\" class=\"data row9 col7\" >0.3090</td>\n",
       "    </tr>\n",
       "    <tr>\n",
       "      <th id=\"T_0a05f_level0_row10\" class=\"row_heading level0 row10\" >par</th>\n",
       "      <td id=\"T_0a05f_row10_col0\" class=\"data row10 col0\" >Passive Aggressive Regressor</td>\n",
       "      <td id=\"T_0a05f_row10_col1\" class=\"data row10 col1\" >264617.2219</td>\n",
       "      <td id=\"T_0a05f_row10_col2\" class=\"data row10 col2\" >602891147544.7825</td>\n",
       "      <td id=\"T_0a05f_row10_col3\" class=\"data row10 col3\" >588261.8111</td>\n",
       "      <td id=\"T_0a05f_row10_col4\" class=\"data row10 col4\" >0.3887</td>\n",
       "      <td id=\"T_0a05f_row10_col5\" class=\"data row10 col5\" >0.3394</td>\n",
       "      <td id=\"T_0a05f_row10_col6\" class=\"data row10 col6\" >0.2448</td>\n",
       "      <td id=\"T_0a05f_row10_col7\" class=\"data row10 col7\" >0.0810</td>\n",
       "    </tr>\n",
       "    <tr>\n",
       "      <th id=\"T_0a05f_level0_row11\" class=\"row_heading level0 row11\" >gbr</th>\n",
       "      <td id=\"T_0a05f_row11_col0\" class=\"data row11 col0\" >Gradient Boosting Regressor</td>\n",
       "      <td id=\"T_0a05f_row11_col1\" class=\"data row11 col1\" >249297.9763</td>\n",
       "      <td id=\"T_0a05f_row11_col2\" class=\"data row11 col2\" >590484800961.4714</td>\n",
       "      <td id=\"T_0a05f_row11_col3\" class=\"data row11 col3\" >581187.8831</td>\n",
       "      <td id=\"T_0a05f_row11_col4\" class=\"data row11 col4\" >0.3769</td>\n",
       "      <td id=\"T_0a05f_row11_col5\" class=\"data row11 col5\" >0.3312</td>\n",
       "      <td id=\"T_0a05f_row11_col6\" class=\"data row11 col6\" >0.2654</td>\n",
       "      <td id=\"T_0a05f_row11_col7\" class=\"data row11 col7\" >0.0740</td>\n",
       "    </tr>\n",
       "    <tr>\n",
       "      <th id=\"T_0a05f_level0_row12\" class=\"row_heading level0 row12\" >rf</th>\n",
       "      <td id=\"T_0a05f_row12_col0\" class=\"data row12 col0\" >Random Forest Regressor</td>\n",
       "      <td id=\"T_0a05f_row12_col1\" class=\"data row12 col1\" >266068.2166</td>\n",
       "      <td id=\"T_0a05f_row12_col2\" class=\"data row12 col2\" >628361962359.1272</td>\n",
       "      <td id=\"T_0a05f_row12_col3\" class=\"data row12 col3\" >605602.7158</td>\n",
       "      <td id=\"T_0a05f_row12_col4\" class=\"data row12 col4\" >0.2985</td>\n",
       "      <td id=\"T_0a05f_row12_col5\" class=\"data row12 col5\" >0.3466</td>\n",
       "      <td id=\"T_0a05f_row12_col6\" class=\"data row12 col6\" >0.2847</td>\n",
       "      <td id=\"T_0a05f_row12_col7\" class=\"data row12 col7\" >0.2940</td>\n",
       "    </tr>\n",
       "    <tr>\n",
       "      <th id=\"T_0a05f_level0_row13\" class=\"row_heading level0 row13\" >knn</th>\n",
       "      <td id=\"T_0a05f_row13_col0\" class=\"data row13 col0\" >K Neighbors Regressor</td>\n",
       "      <td id=\"T_0a05f_row13_col1\" class=\"data row13 col1\" >272961.7750</td>\n",
       "      <td id=\"T_0a05f_row13_col2\" class=\"data row13 col2\" >661770215424.0000</td>\n",
       "      <td id=\"T_0a05f_row13_col3\" class=\"data row13 col3\" >649820.0875</td>\n",
       "      <td id=\"T_0a05f_row13_col4\" class=\"data row13 col4\" >0.1426</td>\n",
       "      <td id=\"T_0a05f_row13_col5\" class=\"data row13 col5\" >0.3583</td>\n",
       "      <td id=\"T_0a05f_row13_col6\" class=\"data row13 col6\" >0.2964</td>\n",
       "      <td id=\"T_0a05f_row13_col7\" class=\"data row13 col7\" >0.0720</td>\n",
       "    </tr>\n",
       "    <tr>\n",
       "      <th id=\"T_0a05f_level0_row14\" class=\"row_heading level0 row14\" >br</th>\n",
       "      <td id=\"T_0a05f_row14_col0\" class=\"data row14 col0\" >Bayesian Ridge</td>\n",
       "      <td id=\"T_0a05f_row14_col1\" class=\"data row14 col1\" >383829.9938</td>\n",
       "      <td id=\"T_0a05f_row14_col2\" class=\"data row14 col2\" >711167592038.4000</td>\n",
       "      <td id=\"T_0a05f_row14_col3\" class=\"data row14 col3\" >709056.7219</td>\n",
       "      <td id=\"T_0a05f_row14_col4\" class=\"data row14 col4\" >-0.0117</td>\n",
       "      <td id=\"T_0a05f_row14_col5\" class=\"data row14 col5\" >0.5131</td>\n",
       "      <td id=\"T_0a05f_row14_col6\" class=\"data row14 col6\" >0.4869</td>\n",
       "      <td id=\"T_0a05f_row14_col7\" class=\"data row14 col7\" >0.0300</td>\n",
       "    </tr>\n",
       "    <tr>\n",
       "      <th id=\"T_0a05f_level0_row15\" class=\"row_heading level0 row15\" >dummy</th>\n",
       "      <td id=\"T_0a05f_row15_col0\" class=\"data row15 col0\" >Dummy Regressor</td>\n",
       "      <td id=\"T_0a05f_row15_col1\" class=\"data row15 col1\" >405299.0125</td>\n",
       "      <td id=\"T_0a05f_row15_col2\" class=\"data row15 col2\" >738772665958.4000</td>\n",
       "      <td id=\"T_0a05f_row15_col3\" class=\"data row15 col3\" >715693.0594</td>\n",
       "      <td id=\"T_0a05f_row15_col4\" class=\"data row15 col4\" >-0.0180</td>\n",
       "      <td id=\"T_0a05f_row15_col5\" class=\"data row15 col5\" >0.5369</td>\n",
       "      <td id=\"T_0a05f_row15_col6\" class=\"data row15 col6\" >0.5187</td>\n",
       "      <td id=\"T_0a05f_row15_col7\" class=\"data row15 col7\" >0.0250</td>\n",
       "    </tr>\n",
       "    <tr>\n",
       "      <th id=\"T_0a05f_level0_row16\" class=\"row_heading level0 row16\" >et</th>\n",
       "      <td id=\"T_0a05f_row16_col0\" class=\"data row16 col0\" >Extra Trees Regressor</td>\n",
       "      <td id=\"T_0a05f_row16_col1\" class=\"data row16 col1\" >291322.2486</td>\n",
       "      <td id=\"T_0a05f_row16_col2\" class=\"data row16 col2\" >856640696840.7743</td>\n",
       "      <td id=\"T_0a05f_row16_col3\" class=\"data row16 col3\" >719501.9834</td>\n",
       "      <td id=\"T_0a05f_row16_col4\" class=\"data row16 col4\" >-0.5024</td>\n",
       "      <td id=\"T_0a05f_row16_col5\" class=\"data row16 col5\" >0.3720</td>\n",
       "      <td id=\"T_0a05f_row16_col6\" class=\"data row16 col6\" >0.3074</td>\n",
       "      <td id=\"T_0a05f_row16_col7\" class=\"data row16 col7\" >0.1970</td>\n",
       "    </tr>\n",
       "    <tr>\n",
       "      <th id=\"T_0a05f_level0_row17\" class=\"row_heading level0 row17\" >dt</th>\n",
       "      <td id=\"T_0a05f_row17_col0\" class=\"data row17 col0\" >Decision Tree Regressor</td>\n",
       "      <td id=\"T_0a05f_row17_col1\" class=\"data row17 col1\" >326009.1992</td>\n",
       "      <td id=\"T_0a05f_row17_col2\" class=\"data row17 col2\" >1048502170676.5251</td>\n",
       "      <td id=\"T_0a05f_row17_col3\" class=\"data row17 col3\" >784678.7509</td>\n",
       "      <td id=\"T_0a05f_row17_col4\" class=\"data row17 col4\" >-0.6361</td>\n",
       "      <td id=\"T_0a05f_row17_col5\" class=\"data row17 col5\" >0.4206</td>\n",
       "      <td id=\"T_0a05f_row17_col6\" class=\"data row17 col6\" >0.3387</td>\n",
       "      <td id=\"T_0a05f_row17_col7\" class=\"data row17 col7\" >0.0510</td>\n",
       "    </tr>\n",
       "  </tbody>\n",
       "</table>\n"
      ],
      "text/plain": [
       "<pandas.io.formats.style.Styler at 0x1dbdbe29eb0>"
      ]
     },
     "metadata": {},
     "output_type": "display_data"
    },
    {
     "data": {
      "application/vnd.jupyter.widget-view+json": {
       "model_id": "",
       "version_major": 2,
       "version_minor": 0
      },
      "text/plain": [
       "Processing:   0%|          | 0/77 [00:00<?, ?it/s]"
      ]
     },
     "metadata": {},
     "output_type": "display_data"
    },
    {
     "data": {
      "text/html": [
       "<style>#sk-container-id-1 {color: black;background-color: white;}#sk-container-id-1 pre{padding: 0;}#sk-container-id-1 div.sk-toggleable {background-color: white;}#sk-container-id-1 label.sk-toggleable__label {cursor: pointer;display: block;width: 100%;margin-bottom: 0;padding: 0.3em;box-sizing: border-box;text-align: center;}#sk-container-id-1 label.sk-toggleable__label-arrow:before {content: \"▸\";float: left;margin-right: 0.25em;color: #696969;}#sk-container-id-1 label.sk-toggleable__label-arrow:hover:before {color: black;}#sk-container-id-1 div.sk-estimator:hover label.sk-toggleable__label-arrow:before {color: black;}#sk-container-id-1 div.sk-toggleable__content {max-height: 0;max-width: 0;overflow: hidden;text-align: left;background-color: #f0f8ff;}#sk-container-id-1 div.sk-toggleable__content pre {margin: 0.2em;color: black;border-radius: 0.25em;background-color: #f0f8ff;}#sk-container-id-1 input.sk-toggleable__control:checked~div.sk-toggleable__content {max-height: 200px;max-width: 100%;overflow: auto;}#sk-container-id-1 input.sk-toggleable__control:checked~label.sk-toggleable__label-arrow:before {content: \"▾\";}#sk-container-id-1 div.sk-estimator input.sk-toggleable__control:checked~label.sk-toggleable__label {background-color: #d4ebff;}#sk-container-id-1 div.sk-label input.sk-toggleable__control:checked~label.sk-toggleable__label {background-color: #d4ebff;}#sk-container-id-1 input.sk-hidden--visually {border: 0;clip: rect(1px 1px 1px 1px);clip: rect(1px, 1px, 1px, 1px);height: 1px;margin: -1px;overflow: hidden;padding: 0;position: absolute;width: 1px;}#sk-container-id-1 div.sk-estimator {font-family: monospace;background-color: #f0f8ff;border: 1px dotted black;border-radius: 0.25em;box-sizing: border-box;margin-bottom: 0.5em;}#sk-container-id-1 div.sk-estimator:hover {background-color: #d4ebff;}#sk-container-id-1 div.sk-parallel-item::after {content: \"\";width: 100%;border-bottom: 1px solid gray;flex-grow: 1;}#sk-container-id-1 div.sk-label:hover label.sk-toggleable__label {background-color: #d4ebff;}#sk-container-id-1 div.sk-serial::before {content: \"\";position: absolute;border-left: 1px solid gray;box-sizing: border-box;top: 0;bottom: 0;left: 50%;z-index: 0;}#sk-container-id-1 div.sk-serial {display: flex;flex-direction: column;align-items: center;background-color: white;padding-right: 0.2em;padding-left: 0.2em;position: relative;}#sk-container-id-1 div.sk-item {position: relative;z-index: 1;}#sk-container-id-1 div.sk-parallel {display: flex;align-items: stretch;justify-content: center;background-color: white;position: relative;}#sk-container-id-1 div.sk-item::before, #sk-container-id-1 div.sk-parallel-item::before {content: \"\";position: absolute;border-left: 1px solid gray;box-sizing: border-box;top: 0;bottom: 0;left: 50%;z-index: -1;}#sk-container-id-1 div.sk-parallel-item {display: flex;flex-direction: column;z-index: 1;position: relative;background-color: white;}#sk-container-id-1 div.sk-parallel-item:first-child::after {align-self: flex-end;width: 50%;}#sk-container-id-1 div.sk-parallel-item:last-child::after {align-self: flex-start;width: 50%;}#sk-container-id-1 div.sk-parallel-item:only-child::after {width: 0;}#sk-container-id-1 div.sk-dashed-wrapped {border: 1px dashed gray;margin: 0 0.4em 0.5em 0.4em;box-sizing: border-box;padding-bottom: 0.4em;background-color: white;}#sk-container-id-1 div.sk-label label {font-family: monospace;font-weight: bold;display: inline-block;line-height: 1.2em;}#sk-container-id-1 div.sk-label-container {text-align: center;}#sk-container-id-1 div.sk-container {/* jupyter's `normalize.less` sets `[hidden] { display: none; }` but bootstrap.min.css set `[hidden] { display: none !important; }` so we also need the `!important` here to be able to override the default hidden behavior on the sphinx rendered scikit-learn.org. See: https://github.com/scikit-learn/scikit-learn/issues/21755 */display: inline-block !important;position: relative;}#sk-container-id-1 div.sk-text-repr-fallback {display: none;}</style><div id=\"sk-container-id-1\" class=\"sk-top-container\"><div class=\"sk-text-repr-fallback\"><pre>HuberRegressor()</pre><b>In a Jupyter environment, please rerun this cell to show the HTML representation or trust the notebook. <br />On GitHub, the HTML representation is unable to render, please try loading this page with nbviewer.org.</b></div><div class=\"sk-container\" hidden><div class=\"sk-item\"><div class=\"sk-estimator sk-toggleable\"><input class=\"sk-toggleable__control sk-hidden--visually\" id=\"sk-estimator-id-1\" type=\"checkbox\" checked><label for=\"sk-estimator-id-1\" class=\"sk-toggleable__label sk-toggleable__label-arrow\">HuberRegressor</label><div class=\"sk-toggleable__content\"><pre>HuberRegressor()</pre></div></div></div></div></div>"
      ],
      "text/plain": [
       "HuberRegressor()"
      ]
     },
     "execution_count": 20,
     "metadata": {},
     "output_type": "execute_result"
    }
   ],
   "source": [
    "compare_models()"
   ]
  },
  {
   "cell_type": "markdown",
   "id": "a7f85b4d",
   "metadata": {},
   "source": [
    "## let's create a Light Gradient Boosting Machine"
   ]
  },
  {
   "cell_type": "code",
   "execution_count": 21,
   "id": "c6fc84ac",
   "metadata": {},
   "outputs": [
    {
     "data": {
      "text/html": [],
      "text/plain": [
       "<IPython.core.display.HTML object>"
      ]
     },
     "metadata": {},
     "output_type": "display_data"
    },
    {
     "data": {
      "text/html": [
       "<style type=\"text/css\">\n",
       "#T_84621_row10_col0, #T_84621_row10_col1, #T_84621_row10_col2, #T_84621_row10_col3, #T_84621_row10_col4, #T_84621_row10_col5 {\n",
       "  background: yellow;\n",
       "}\n",
       "</style>\n",
       "<table id=\"T_84621\">\n",
       "  <thead>\n",
       "    <tr>\n",
       "      <th class=\"blank level0\" >&nbsp;</th>\n",
       "      <th id=\"T_84621_level0_col0\" class=\"col_heading level0 col0\" >MAE</th>\n",
       "      <th id=\"T_84621_level0_col1\" class=\"col_heading level0 col1\" >MSE</th>\n",
       "      <th id=\"T_84621_level0_col2\" class=\"col_heading level0 col2\" >RMSE</th>\n",
       "      <th id=\"T_84621_level0_col3\" class=\"col_heading level0 col3\" >R2</th>\n",
       "      <th id=\"T_84621_level0_col4\" class=\"col_heading level0 col4\" >RMSLE</th>\n",
       "      <th id=\"T_84621_level0_col5\" class=\"col_heading level0 col5\" >MAPE</th>\n",
       "    </tr>\n",
       "    <tr>\n",
       "      <th class=\"index_name level0\" >Fold</th>\n",
       "      <th class=\"blank col0\" >&nbsp;</th>\n",
       "      <th class=\"blank col1\" >&nbsp;</th>\n",
       "      <th class=\"blank col2\" >&nbsp;</th>\n",
       "      <th class=\"blank col3\" >&nbsp;</th>\n",
       "      <th class=\"blank col4\" >&nbsp;</th>\n",
       "      <th class=\"blank col5\" >&nbsp;</th>\n",
       "    </tr>\n",
       "  </thead>\n",
       "  <tbody>\n",
       "    <tr>\n",
       "      <th id=\"T_84621_level0_row0\" class=\"row_heading level0 row0\" >0</th>\n",
       "      <td id=\"T_84621_row0_col0\" class=\"data row0 col0\" >265993.2872</td>\n",
       "      <td id=\"T_84621_row0_col1\" class=\"data row0 col1\" >214224148033.5268</td>\n",
       "      <td id=\"T_84621_row0_col2\" class=\"data row0 col2\" >462843.5460</td>\n",
       "      <td id=\"T_84621_row0_col3\" class=\"data row0 col3\" >0.5924</td>\n",
       "      <td id=\"T_84621_row0_col4\" class=\"data row0 col4\" >0.3385</td>\n",
       "      <td id=\"T_84621_row0_col5\" class=\"data row0 col5\" >0.2722</td>\n",
       "    </tr>\n",
       "    <tr>\n",
       "      <th id=\"T_84621_level0_row1\" class=\"row_heading level0 row1\" >1</th>\n",
       "      <td id=\"T_84621_row1_col0\" class=\"data row1 col0\" >207250.4268</td>\n",
       "      <td id=\"T_84621_row1_col1\" class=\"data row1 col1\" >81453936106.2764</td>\n",
       "      <td id=\"T_84621_row1_col2\" class=\"data row1 col2\" >285401.3597</td>\n",
       "      <td id=\"T_84621_row1_col3\" class=\"data row1 col3\" >0.5856</td>\n",
       "      <td id=\"T_84621_row1_col4\" class=\"data row1 col4\" >0.3063</td>\n",
       "      <td id=\"T_84621_row1_col5\" class=\"data row1 col5\" >0.2547</td>\n",
       "    </tr>\n",
       "    <tr>\n",
       "      <th id=\"T_84621_level0_row2\" class=\"row_heading level0 row2\" >2</th>\n",
       "      <td id=\"T_84621_row2_col0\" class=\"data row2 col0\" >219468.8479</td>\n",
       "      <td id=\"T_84621_row2_col1\" class=\"data row2 col1\" >96079981323.8522</td>\n",
       "      <td id=\"T_84621_row2_col2\" class=\"data row2 col2\" >309967.7101</td>\n",
       "      <td id=\"T_84621_row2_col3\" class=\"data row2 col3\" >0.5744</td>\n",
       "      <td id=\"T_84621_row2_col4\" class=\"data row2 col4\" >0.3110</td>\n",
       "      <td id=\"T_84621_row2_col5\" class=\"data row2 col5\" >0.2674</td>\n",
       "    </tr>\n",
       "    <tr>\n",
       "      <th id=\"T_84621_level0_row3\" class=\"row_heading level0 row3\" >3</th>\n",
       "      <td id=\"T_84621_row3_col0\" class=\"data row3 col0\" >351890.9105</td>\n",
       "      <td id=\"T_84621_row3_col1\" class=\"data row3 col1\" >4205712851017.7490</td>\n",
       "      <td id=\"T_84621_row3_col2\" class=\"data row3 col2\" >2050783.4725</td>\n",
       "      <td id=\"T_84621_row3_col3\" class=\"data row3 col3\" >0.0530</td>\n",
       "      <td id=\"T_84621_row3_col4\" class=\"data row3 col4\" >0.3718</td>\n",
       "      <td id=\"T_84621_row3_col5\" class=\"data row3 col5\" >0.2066</td>\n",
       "    </tr>\n",
       "    <tr>\n",
       "      <th id=\"T_84621_level0_row4\" class=\"row_heading level0 row4\" >4</th>\n",
       "      <td id=\"T_84621_row4_col0\" class=\"data row4 col0\" >195491.7569</td>\n",
       "      <td id=\"T_84621_row4_col1\" class=\"data row4 col1\" >77780960307.8295</td>\n",
       "      <td id=\"T_84621_row4_col2\" class=\"data row4 col2\" >278892.3812</td>\n",
       "      <td id=\"T_84621_row4_col3\" class=\"data row4 col3\" >0.5172</td>\n",
       "      <td id=\"T_84621_row4_col4\" class=\"data row4 col4\" >0.2921</td>\n",
       "      <td id=\"T_84621_row4_col5\" class=\"data row4 col5\" >0.2312</td>\n",
       "    </tr>\n",
       "    <tr>\n",
       "      <th id=\"T_84621_level0_row5\" class=\"row_heading level0 row5\" >5</th>\n",
       "      <td id=\"T_84621_row5_col0\" class=\"data row5 col0\" >227874.2056</td>\n",
       "      <td id=\"T_84621_row5_col1\" class=\"data row5 col1\" >260976353550.2880</td>\n",
       "      <td id=\"T_84621_row5_col2\" class=\"data row5 col2\" >510858.4477</td>\n",
       "      <td id=\"T_84621_row5_col3\" class=\"data row5 col3\" >0.4442</td>\n",
       "      <td id=\"T_84621_row5_col4\" class=\"data row5 col4\" >0.2924</td>\n",
       "      <td id=\"T_84621_row5_col5\" class=\"data row5 col5\" >0.2292</td>\n",
       "    </tr>\n",
       "    <tr>\n",
       "      <th id=\"T_84621_level0_row6\" class=\"row_heading level0 row6\" >6</th>\n",
       "      <td id=\"T_84621_row6_col0\" class=\"data row6 col0\" >214965.7024</td>\n",
       "      <td id=\"T_84621_row6_col1\" class=\"data row6 col1\" >134998570173.3332</td>\n",
       "      <td id=\"T_84621_row6_col2\" class=\"data row6 col2\" >367421.5157</td>\n",
       "      <td id=\"T_84621_row6_col3\" class=\"data row6 col3\" >0.4797</td>\n",
       "      <td id=\"T_84621_row6_col4\" class=\"data row6 col4\" >0.3470</td>\n",
       "      <td id=\"T_84621_row6_col5\" class=\"data row6 col5\" >0.2740</td>\n",
       "    </tr>\n",
       "    <tr>\n",
       "      <th id=\"T_84621_level0_row7\" class=\"row_heading level0 row7\" >7</th>\n",
       "      <td id=\"T_84621_row7_col0\" class=\"data row7 col0\" >221102.6100</td>\n",
       "      <td id=\"T_84621_row7_col1\" class=\"data row7 col1\" >104240169203.6119</td>\n",
       "      <td id=\"T_84621_row7_col2\" class=\"data row7 col2\" >322862.4617</td>\n",
       "      <td id=\"T_84621_row7_col3\" class=\"data row7 col3\" >0.6639</td>\n",
       "      <td id=\"T_84621_row7_col4\" class=\"data row7 col4\" >0.3210</td>\n",
       "      <td id=\"T_84621_row7_col5\" class=\"data row7 col5\" >0.2602</td>\n",
       "    </tr>\n",
       "    <tr>\n",
       "      <th id=\"T_84621_level0_row8\" class=\"row_heading level0 row8\" >8</th>\n",
       "      <td id=\"T_84621_row8_col0\" class=\"data row8 col0\" >241875.0592</td>\n",
       "      <td id=\"T_84621_row8_col1\" class=\"data row8 col1\" >137191634917.2654</td>\n",
       "      <td id=\"T_84621_row8_col2\" class=\"data row8 col2\" >370393.8916</td>\n",
       "      <td id=\"T_84621_row8_col3\" class=\"data row8 col3\" >0.5614</td>\n",
       "      <td id=\"T_84621_row8_col4\" class=\"data row8 col4\" >0.3238</td>\n",
       "      <td id=\"T_84621_row8_col5\" class=\"data row8 col5\" >0.2621</td>\n",
       "    </tr>\n",
       "    <tr>\n",
       "      <th id=\"T_84621_level0_row9\" class=\"row_heading level0 row9\" >9</th>\n",
       "      <td id=\"T_84621_row9_col0\" class=\"data row9 col0\" >261142.9281</td>\n",
       "      <td id=\"T_84621_row9_col1\" class=\"data row9 col1\" >169957747562.9483</td>\n",
       "      <td id=\"T_84621_row9_col2\" class=\"data row9 col2\" >412259.3208</td>\n",
       "      <td id=\"T_84621_row9_col3\" class=\"data row9 col3\" >0.5907</td>\n",
       "      <td id=\"T_84621_row9_col4\" class=\"data row9 col4\" >0.2995</td>\n",
       "      <td id=\"T_84621_row9_col5\" class=\"data row9 col5\" >0.2399</td>\n",
       "    </tr>\n",
       "    <tr>\n",
       "      <th id=\"T_84621_level0_row10\" class=\"row_heading level0 row10\" >Mean</th>\n",
       "      <td id=\"T_84621_row10_col0\" class=\"data row10 col0\" >240705.5735</td>\n",
       "      <td id=\"T_84621_row10_col1\" class=\"data row10 col1\" >548261635219.6681</td>\n",
       "      <td id=\"T_84621_row10_col2\" class=\"data row10 col2\" >537168.4107</td>\n",
       "      <td id=\"T_84621_row10_col3\" class=\"data row10 col3\" >0.5062</td>\n",
       "      <td id=\"T_84621_row10_col4\" class=\"data row10 col4\" >0.3204</td>\n",
       "      <td id=\"T_84621_row10_col5\" class=\"data row10 col5\" >0.2497</td>\n",
       "    </tr>\n",
       "    <tr>\n",
       "      <th id=\"T_84621_level0_row11\" class=\"row_heading level0 row11\" >Std</th>\n",
       "      <td id=\"T_84621_row11_col0\" class=\"data row11 col0\" >42716.1521</td>\n",
       "      <td id=\"T_84621_row11_col1\" class=\"data row11 col1\" >1220443641188.2642</td>\n",
       "      <td id=\"T_84621_row11_col2\" class=\"data row11 col2\" >509619.2047</td>\n",
       "      <td id=\"T_84621_row11_col3\" class=\"data row11 col3\" >0.1623</td>\n",
       "      <td id=\"T_84621_row11_col4\" class=\"data row11 col4\" >0.0245</td>\n",
       "      <td id=\"T_84621_row11_col5\" class=\"data row11 col5\" >0.0210</td>\n",
       "    </tr>\n",
       "  </tbody>\n",
       "</table>\n"
      ],
      "text/plain": [
       "<pandas.io.formats.style.Styler at 0x1dbdeac1190>"
      ]
     },
     "metadata": {},
     "output_type": "display_data"
    },
    {
     "data": {
      "application/vnd.jupyter.widget-view+json": {
       "model_id": "",
       "version_major": 2,
       "version_minor": 0
      },
      "text/plain": [
       "Processing:   0%|          | 0/4 [00:00<?, ?it/s]"
      ]
     },
     "metadata": {},
     "output_type": "display_data"
    }
   ],
   "source": [
    "huber = create_model('huber')"
   ]
  },
  {
   "cell_type": "markdown",
   "id": "d8467603",
   "metadata": {},
   "source": [
    "## Let's tune it!"
   ]
  },
  {
   "cell_type": "code",
   "execution_count": 22,
   "id": "323d5ea2",
   "metadata": {},
   "outputs": [
    {
     "data": {
      "text/html": [],
      "text/plain": [
       "<IPython.core.display.HTML object>"
      ]
     },
     "metadata": {},
     "output_type": "display_data"
    },
    {
     "data": {
      "text/html": [
       "<style type=\"text/css\">\n",
       "#T_7d0ad_row10_col0, #T_7d0ad_row10_col1, #T_7d0ad_row10_col2, #T_7d0ad_row10_col3, #T_7d0ad_row10_col4, #T_7d0ad_row10_col5 {\n",
       "  background: yellow;\n",
       "}\n",
       "</style>\n",
       "<table id=\"T_7d0ad\">\n",
       "  <thead>\n",
       "    <tr>\n",
       "      <th class=\"blank level0\" >&nbsp;</th>\n",
       "      <th id=\"T_7d0ad_level0_col0\" class=\"col_heading level0 col0\" >MAE</th>\n",
       "      <th id=\"T_7d0ad_level0_col1\" class=\"col_heading level0 col1\" >MSE</th>\n",
       "      <th id=\"T_7d0ad_level0_col2\" class=\"col_heading level0 col2\" >RMSE</th>\n",
       "      <th id=\"T_7d0ad_level0_col3\" class=\"col_heading level0 col3\" >R2</th>\n",
       "      <th id=\"T_7d0ad_level0_col4\" class=\"col_heading level0 col4\" >RMSLE</th>\n",
       "      <th id=\"T_7d0ad_level0_col5\" class=\"col_heading level0 col5\" >MAPE</th>\n",
       "    </tr>\n",
       "    <tr>\n",
       "      <th class=\"index_name level0\" >Fold</th>\n",
       "      <th class=\"blank col0\" >&nbsp;</th>\n",
       "      <th class=\"blank col1\" >&nbsp;</th>\n",
       "      <th class=\"blank col2\" >&nbsp;</th>\n",
       "      <th class=\"blank col3\" >&nbsp;</th>\n",
       "      <th class=\"blank col4\" >&nbsp;</th>\n",
       "      <th class=\"blank col5\" >&nbsp;</th>\n",
       "    </tr>\n",
       "  </thead>\n",
       "  <tbody>\n",
       "    <tr>\n",
       "      <th id=\"T_7d0ad_level0_row0\" class=\"row_heading level0 row0\" >0</th>\n",
       "      <td id=\"T_7d0ad_row0_col0\" class=\"data row0 col0\" >266558.5426</td>\n",
       "      <td id=\"T_7d0ad_row0_col1\" class=\"data row0 col1\" >214818856962.1092</td>\n",
       "      <td id=\"T_7d0ad_row0_col2\" class=\"data row0 col2\" >463485.5521</td>\n",
       "      <td id=\"T_7d0ad_row0_col3\" class=\"data row0 col3\" >0.5913</td>\n",
       "      <td id=\"T_7d0ad_row0_col4\" class=\"data row0 col4\" >0.3381</td>\n",
       "      <td id=\"T_7d0ad_row0_col5\" class=\"data row0 col5\" >0.2709</td>\n",
       "    </tr>\n",
       "    <tr>\n",
       "      <th id=\"T_7d0ad_level0_row1\" class=\"row_heading level0 row1\" >1</th>\n",
       "      <td id=\"T_7d0ad_row1_col0\" class=\"data row1 col0\" >206198.8488</td>\n",
       "      <td id=\"T_7d0ad_row1_col1\" class=\"data row1 col1\" >80737656448.1841</td>\n",
       "      <td id=\"T_7d0ad_row1_col2\" class=\"data row1 col2\" >284143.7250</td>\n",
       "      <td id=\"T_7d0ad_row1_col3\" class=\"data row1 col3\" >0.5892</td>\n",
       "      <td id=\"T_7d0ad_row1_col4\" class=\"data row1 col4\" >0.3050</td>\n",
       "      <td id=\"T_7d0ad_row1_col5\" class=\"data row1 col5\" >0.2535</td>\n",
       "    </tr>\n",
       "    <tr>\n",
       "      <th id=\"T_7d0ad_level0_row2\" class=\"row_heading level0 row2\" >2</th>\n",
       "      <td id=\"T_7d0ad_row2_col0\" class=\"data row2 col0\" >219132.8762</td>\n",
       "      <td id=\"T_7d0ad_row2_col1\" class=\"data row2 col1\" >96022150785.7304</td>\n",
       "      <td id=\"T_7d0ad_row2_col2\" class=\"data row2 col2\" >309874.4113</td>\n",
       "      <td id=\"T_7d0ad_row2_col3\" class=\"data row2 col3\" >0.5746</td>\n",
       "      <td id=\"T_7d0ad_row2_col4\" class=\"data row2 col4\" >0.3106</td>\n",
       "      <td id=\"T_7d0ad_row2_col5\" class=\"data row2 col5\" >0.2669</td>\n",
       "    </tr>\n",
       "    <tr>\n",
       "      <th id=\"T_7d0ad_level0_row3\" class=\"row_heading level0 row3\" >3</th>\n",
       "      <td id=\"T_7d0ad_row3_col0\" class=\"data row3 col0\" >354140.1874</td>\n",
       "      <td id=\"T_7d0ad_row3_col1\" class=\"data row3 col1\" >4209035847009.2354</td>\n",
       "      <td id=\"T_7d0ad_row3_col2\" class=\"data row3 col2\" >2051593.4897</td>\n",
       "      <td id=\"T_7d0ad_row3_col3\" class=\"data row3 col3\" >0.0523</td>\n",
       "      <td id=\"T_7d0ad_row3_col4\" class=\"data row3 col4\" >0.3722</td>\n",
       "      <td id=\"T_7d0ad_row3_col5\" class=\"data row3 col5\" >0.2082</td>\n",
       "    </tr>\n",
       "    <tr>\n",
       "      <th id=\"T_7d0ad_level0_row4\" class=\"row_heading level0 row4\" >4</th>\n",
       "      <td id=\"T_7d0ad_row4_col0\" class=\"data row4 col0\" >193431.3379</td>\n",
       "      <td id=\"T_7d0ad_row4_col1\" class=\"data row4 col1\" >76818097891.7150</td>\n",
       "      <td id=\"T_7d0ad_row4_col2\" class=\"data row4 col2\" >277160.7799</td>\n",
       "      <td id=\"T_7d0ad_row4_col3\" class=\"data row4 col3\" >0.5232</td>\n",
       "      <td id=\"T_7d0ad_row4_col4\" class=\"data row4 col4\" >0.2896</td>\n",
       "      <td id=\"T_7d0ad_row4_col5\" class=\"data row4 col5\" >0.2279</td>\n",
       "    </tr>\n",
       "    <tr>\n",
       "      <th id=\"T_7d0ad_level0_row5\" class=\"row_heading level0 row5\" >5</th>\n",
       "      <td id=\"T_7d0ad_row5_col0\" class=\"data row5 col0\" >228622.6763</td>\n",
       "      <td id=\"T_7d0ad_row5_col1\" class=\"data row5 col1\" >259608774013.5677</td>\n",
       "      <td id=\"T_7d0ad_row5_col2\" class=\"data row5 col2\" >509518.1783</td>\n",
       "      <td id=\"T_7d0ad_row5_col3\" class=\"data row5 col3\" >0.4471</td>\n",
       "      <td id=\"T_7d0ad_row5_col4\" class=\"data row5 col4\" >0.2918</td>\n",
       "      <td id=\"T_7d0ad_row5_col5\" class=\"data row5 col5\" >0.2295</td>\n",
       "    </tr>\n",
       "    <tr>\n",
       "      <th id=\"T_7d0ad_level0_row6\" class=\"row_heading level0 row6\" >6</th>\n",
       "      <td id=\"T_7d0ad_row6_col0\" class=\"data row6 col0\" >214504.1270</td>\n",
       "      <td id=\"T_7d0ad_row6_col1\" class=\"data row6 col1\" >134199117718.3677</td>\n",
       "      <td id=\"T_7d0ad_row6_col2\" class=\"data row6 col2\" >366331.9775</td>\n",
       "      <td id=\"T_7d0ad_row6_col3\" class=\"data row6 col3\" >0.4828</td>\n",
       "      <td id=\"T_7d0ad_row6_col4\" class=\"data row6 col4\" >0.3464</td>\n",
       "      <td id=\"T_7d0ad_row6_col5\" class=\"data row6 col5\" >0.2718</td>\n",
       "    </tr>\n",
       "    <tr>\n",
       "      <th id=\"T_7d0ad_level0_row7\" class=\"row_heading level0 row7\" >7</th>\n",
       "      <td id=\"T_7d0ad_row7_col0\" class=\"data row7 col0\" >222334.6157</td>\n",
       "      <td id=\"T_7d0ad_row7_col1\" class=\"data row7 col1\" >104794291609.3184</td>\n",
       "      <td id=\"T_7d0ad_row7_col2\" class=\"data row7 col2\" >323719.4644</td>\n",
       "      <td id=\"T_7d0ad_row7_col3\" class=\"data row7 col3\" >0.6621</td>\n",
       "      <td id=\"T_7d0ad_row7_col4\" class=\"data row7 col4\" >0.3218</td>\n",
       "      <td id=\"T_7d0ad_row7_col5\" class=\"data row7 col5\" >0.2609</td>\n",
       "    </tr>\n",
       "    <tr>\n",
       "      <th id=\"T_7d0ad_level0_row8\" class=\"row_heading level0 row8\" >8</th>\n",
       "      <td id=\"T_7d0ad_row8_col0\" class=\"data row8 col0\" >241528.8320</td>\n",
       "      <td id=\"T_7d0ad_row8_col1\" class=\"data row8 col1\" >136469403498.4038</td>\n",
       "      <td id=\"T_7d0ad_row8_col2\" class=\"data row8 col2\" >369417.6546</td>\n",
       "      <td id=\"T_7d0ad_row8_col3\" class=\"data row8 col3\" >0.5638</td>\n",
       "      <td id=\"T_7d0ad_row8_col4\" class=\"data row8 col4\" >0.3236</td>\n",
       "      <td id=\"T_7d0ad_row8_col5\" class=\"data row8 col5\" >0.2617</td>\n",
       "    </tr>\n",
       "    <tr>\n",
       "      <th id=\"T_7d0ad_level0_row9\" class=\"row_heading level0 row9\" >9</th>\n",
       "      <td id=\"T_7d0ad_row9_col0\" class=\"data row9 col0\" >261997.4839</td>\n",
       "      <td id=\"T_7d0ad_row9_col1\" class=\"data row9 col1\" >170732477387.4592</td>\n",
       "      <td id=\"T_7d0ad_row9_col2\" class=\"data row9 col2\" >413197.8671</td>\n",
       "      <td id=\"T_7d0ad_row9_col3\" class=\"data row9 col3\" >0.5888</td>\n",
       "      <td id=\"T_7d0ad_row9_col4\" class=\"data row9 col4\" >0.3007</td>\n",
       "      <td id=\"T_7d0ad_row9_col5\" class=\"data row9 col5\" >0.2412</td>\n",
       "    </tr>\n",
       "    <tr>\n",
       "      <th id=\"T_7d0ad_level0_row10\" class=\"row_heading level0 row10\" >Mean</th>\n",
       "      <td id=\"T_7d0ad_row10_col0\" class=\"data row10 col0\" >240844.9528</td>\n",
       "      <td id=\"T_7d0ad_row10_col1\" class=\"data row10 col1\" >548323667332.4091</td>\n",
       "      <td id=\"T_7d0ad_row10_col2\" class=\"data row10 col2\" >536844.3100</td>\n",
       "      <td id=\"T_7d0ad_row10_col3\" class=\"data row10 col3\" >0.5075</td>\n",
       "      <td id=\"T_7d0ad_row10_col4\" class=\"data row10 col4\" >0.3200</td>\n",
       "      <td id=\"T_7d0ad_row10_col5\" class=\"data row10 col5\" >0.2493</td>\n",
       "    </tr>\n",
       "    <tr>\n",
       "      <th id=\"T_7d0ad_level0_row11\" class=\"row_heading level0 row11\" >Std</th>\n",
       "      <td id=\"T_7d0ad_row11_col0\" class=\"data row11 col0\" >43646.9581</td>\n",
       "      <td id=\"T_7d0ad_row11_col1\" class=\"data row11 col1\" >1221529481557.5176</td>\n",
       "      <td id=\"T_7d0ad_row11_col2\" class=\"data row11 col2\" >510021.4252</td>\n",
       "      <td id=\"T_7d0ad_row11_col3\" class=\"data row11 col3\" >0.1624</td>\n",
       "      <td id=\"T_7d0ad_row11_col4\" class=\"data row11 col4\" >0.0248</td>\n",
       "      <td id=\"T_7d0ad_row11_col5\" class=\"data row11 col5\" >0.0205</td>\n",
       "    </tr>\n",
       "  </tbody>\n",
       "</table>\n"
      ],
      "text/plain": [
       "<pandas.io.formats.style.Styler at 0x1dbdd0853d0>"
      ]
     },
     "metadata": {},
     "output_type": "display_data"
    },
    {
     "data": {
      "application/vnd.jupyter.widget-view+json": {
       "model_id": "",
       "version_major": 2,
       "version_minor": 0
      },
      "text/plain": [
       "Processing:   0%|          | 0/7 [00:00<?, ?it/s]"
      ]
     },
     "metadata": {},
     "output_type": "display_data"
    },
    {
     "name": "stdout",
     "output_type": "stream",
     "text": [
      "Fitting 10 folds for each of 10 candidates, totalling 100 fits\n"
     ]
    }
   ],
   "source": [
    "tuned_huber = tune_model(huber)"
   ]
  },
  {
   "cell_type": "markdown",
   "id": "e2460039",
   "metadata": {},
   "source": [
    "## whole thing!"
   ]
  },
  {
   "cell_type": "code",
   "execution_count": 23,
   "id": "2be16199",
   "metadata": {},
   "outputs": [
    {
     "data": {
      "application/vnd.jupyter.widget-view+json": {
       "model_id": "0289f5ada0644c9aab03e21f429842c6",
       "version_major": 2,
       "version_minor": 0
      },
      "text/plain": [
       "interactive(children=(ToggleButtons(description='Plot Type:', icons=('',), options=(('Pipeline Plot', 'pipelin…"
      ]
     },
     "metadata": {},
     "output_type": "display_data"
    }
   ],
   "source": [
    "evaluate_model(tuned_huber)"
   ]
  },
  {
   "cell_type": "markdown",
   "id": "6926cd76",
   "metadata": {},
   "source": [
    "## Predictions"
   ]
  },
  {
   "cell_type": "code",
   "execution_count": 24,
   "id": "76fc0742",
   "metadata": {},
   "outputs": [
    {
     "data": {
      "text/html": [
       "<style type=\"text/css\">\n",
       "</style>\n",
       "<table id=\"T_9f7c0\">\n",
       "  <thead>\n",
       "    <tr>\n",
       "      <th class=\"blank level0\" >&nbsp;</th>\n",
       "      <th id=\"T_9f7c0_level0_col0\" class=\"col_heading level0 col0\" >Model</th>\n",
       "      <th id=\"T_9f7c0_level0_col1\" class=\"col_heading level0 col1\" >MAE</th>\n",
       "      <th id=\"T_9f7c0_level0_col2\" class=\"col_heading level0 col2\" >MSE</th>\n",
       "      <th id=\"T_9f7c0_level0_col3\" class=\"col_heading level0 col3\" >RMSE</th>\n",
       "      <th id=\"T_9f7c0_level0_col4\" class=\"col_heading level0 col4\" >R2</th>\n",
       "      <th id=\"T_9f7c0_level0_col5\" class=\"col_heading level0 col5\" >RMSLE</th>\n",
       "      <th id=\"T_9f7c0_level0_col6\" class=\"col_heading level0 col6\" >MAPE</th>\n",
       "    </tr>\n",
       "  </thead>\n",
       "  <tbody>\n",
       "    <tr>\n",
       "      <th id=\"T_9f7c0_level0_row0\" class=\"row_heading level0 row0\" >0</th>\n",
       "      <td id=\"T_9f7c0_row0_col0\" class=\"data row0 col0\" >Huber Regressor</td>\n",
       "      <td id=\"T_9f7c0_row0_col1\" class=\"data row0 col1\" >246036.5832</td>\n",
       "      <td id=\"T_9f7c0_row0_col2\" class=\"data row0 col2\" >176408487674.5386</td>\n",
       "      <td id=\"T_9f7c0_row0_col3\" class=\"data row0 col3\" >420010.1043</td>\n",
       "      <td id=\"T_9f7c0_row0_col4\" class=\"data row0 col4\" >0.5226</td>\n",
       "      <td id=\"T_9f7c0_row0_col5\" class=\"data row0 col5\" >0.3234</td>\n",
       "      <td id=\"T_9f7c0_row0_col6\" class=\"data row0 col6\" >0.2575</td>\n",
       "    </tr>\n",
       "  </tbody>\n",
       "</table>\n"
      ],
      "text/plain": [
       "<pandas.io.formats.style.Styler at 0x1dbd78dd340>"
      ]
     },
     "metadata": {},
     "output_type": "display_data"
    }
   ],
   "source": [
    "predictions = predict_model(tuned_huber, data = test)"
   ]
  },
  {
   "cell_type": "code",
   "execution_count": 25,
   "id": "6339642b",
   "metadata": {},
   "outputs": [
    {
     "data": {
      "text/html": [
       "<div>\n",
       "<style scoped>\n",
       "    .dataframe tbody tr th:only-of-type {\n",
       "        vertical-align: middle;\n",
       "    }\n",
       "\n",
       "    .dataframe tbody tr th {\n",
       "        vertical-align: top;\n",
       "    }\n",
       "\n",
       "    .dataframe thead th {\n",
       "        text-align: right;\n",
       "    }\n",
       "</style>\n",
       "<table border=\"1\" class=\"dataframe\">\n",
       "  <thead>\n",
       "    <tr style=\"text-align: right;\">\n",
       "      <th></th>\n",
       "      <th>beds</th>\n",
       "      <th>baths</th>\n",
       "      <th>size</th>\n",
       "      <th>price</th>\n",
       "      <th>prediction_label</th>\n",
       "    </tr>\n",
       "  </thead>\n",
       "  <tbody>\n",
       "    <tr>\n",
       "      <th>0</th>\n",
       "      <td>0.104997</td>\n",
       "      <td>0.853544</td>\n",
       "      <td>1.161229</td>\n",
       "      <td>1175000.0</td>\n",
       "      <td>1.405900e+06</td>\n",
       "    </tr>\n",
       "    <tr>\n",
       "      <th>1</th>\n",
       "      <td>0.876612</td>\n",
       "      <td>2.855788</td>\n",
       "      <td>1.361467</td>\n",
       "      <td>1057500.0</td>\n",
       "      <td>1.591887e+06</td>\n",
       "    </tr>\n",
       "    <tr>\n",
       "      <th>2</th>\n",
       "      <td>0.104997</td>\n",
       "      <td>-1.148701</td>\n",
       "      <td>-0.482828</td>\n",
       "      <td>799000.0</td>\n",
       "      <td>6.363249e+05</td>\n",
       "    </tr>\n",
       "    <tr>\n",
       "      <th>3</th>\n",
       "      <td>0.104997</td>\n",
       "      <td>-0.147579</td>\n",
       "      <td>0.644827</td>\n",
       "      <td>565000.0</td>\n",
       "      <td>1.137806e+06</td>\n",
       "    </tr>\n",
       "    <tr>\n",
       "      <th>4</th>\n",
       "      <td>0.104997</td>\n",
       "      <td>1.354105</td>\n",
       "      <td>0.204304</td>\n",
       "      <td>1187000.0</td>\n",
       "      <td>1.075991e+06</td>\n",
       "    </tr>\n",
       "  </tbody>\n",
       "</table>\n",
       "</div>"
      ],
      "text/plain": [
       "       beds     baths      size      price  prediction_label\n",
       "0  0.104997  0.853544  1.161229  1175000.0      1.405900e+06\n",
       "1  0.876612  2.855788  1.361467  1057500.0      1.591887e+06\n",
       "2  0.104997 -1.148701 -0.482828   799000.0      6.363249e+05\n",
       "3  0.104997 -0.147579  0.644827   565000.0      1.137806e+06\n",
       "4  0.104997  1.354105  0.204304  1187000.0      1.075991e+06"
      ]
     },
     "execution_count": 25,
     "metadata": {},
     "output_type": "execute_result"
    }
   ],
   "source": [
    "predictions.head()"
   ]
  }
 ],
 "metadata": {
  "kernelspec": {
   "display_name": "Python 3 (ipykernel)",
   "language": "python",
   "name": "python3"
  },
  "language_info": {
   "codemirror_mode": {
    "name": "ipython",
    "version": 3
   },
   "file_extension": ".py",
   "mimetype": "text/x-python",
   "name": "python",
   "nbconvert_exporter": "python",
   "pygments_lexer": "ipython3",
   "version": "3.9.13"
  }
 },
 "nbformat": 4,
 "nbformat_minor": 5
}
